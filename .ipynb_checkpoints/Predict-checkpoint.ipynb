{
 "cells": [
  {
   "cell_type": "markdown",
   "metadata": {},
   "source": [
    "# Rossman 销售额预测 -- 进行机器学习预测\n",
    "\n",
    "这里将使用特征工程 Feature Engineering notebook 整理的成果进行预测，在预测过程中，我要使用RMPSE作为评价方法来反应模型的表现。"
   ]
  },
  {
   "cell_type": "code",
   "execution_count": 3,
   "metadata": {},
   "outputs": [],
   "source": [
    "from sklearn.metrics import make_scorer\n",
    "\n",
    "def RMSPE(test,pred):\n",
    "    # 在特征工程中，Sales被取对数，这里计算评分时要还原\n",
    "    test = np.e**test\n",
    "    pred = np.e**pred\n",
    "    return np.sqrt(np.mean(((test-pred)/pred)**2))\n",
    "scorer = make_scorer(RMSPE)"
   ]
  },
  {
   "cell_type": "markdown",
   "metadata": {},
   "source": [
    "## 1. Random Forest"
   ]
  },
  {
   "cell_type": "code",
   "execution_count": 4,
   "metadata": {},
   "outputs": [],
   "source": [
    "# 引用必要的库\n",
    "import numpy as np\n",
    "import pandas as pd\n",
    "from sklearn.ensemble import RandomForestRegressor\n",
    "from sklearn.model_selection import train_test_split, cross_val_score, KFold\n",
    "\n",
    "# 读入数据集\n",
    "cesar_train = pd.read_csv('data/cesar_train.csv',index_col=False)\n",
    "cesar_test = pd.read_csv('data/cesar_test.csv',index_col=False)\n",
    "X = cesar_train.drop(['Sales'],axis=1)\n",
    "y = cesar_train.Sales"
   ]
  },
  {
   "cell_type": "markdown",
   "metadata": {},
   "source": [
    "### 1.1. Random Forest default\n",
    "\n",
    "使用默认参数下的随机森林回归算法"
   ]
  },
  {
   "cell_type": "code",
   "execution_count": 3,
   "metadata": {},
   "outputs": [
    {
     "name": "stdout",
     "output_type": "stream",
     "text": [
      "0.1112023005729222\n"
     ]
    }
   ],
   "source": [
    "# 建立最基础的随机森林回归器\n",
    "RF_alpha = RandomForestRegressor()\n",
    "# 将训练集进行再划分\n",
    "X_train, X_test, y_train, y_test = train_test_split(X, y)\n",
    "# 进行训练和评价\n",
    "RF_alpha = RF_alpha.fit(X_train,y_train)\n",
    "y_pred = RF_alpha.predict(X_test)\n",
    "print(RMSPE(y_test,y_pred))"
   ]
  },
  {
   "cell_type": "code",
   "execution_count": 12,
   "metadata": {},
   "outputs": [
    {
     "name": "stdout",
     "output_type": "stream",
     "text": [
      "0.1094229018831378\n",
      "0.10859594051864113\n",
      "0.106686402870307\n",
      "0.10714170553098483\n",
      "0.10774479935323386\n",
      "0.1079538177853957\n",
      "0.10639858165205385\n"
     ]
    }
   ],
   "source": [
    "# 调整 testsize 并进行评价\n",
    "def RF_alpha_tsize(X,y,tsize):\n",
    "    RF_alpha = RandomForestRegressor()\n",
    "    X_train, X_test, y_train, y_test = train_test_split(X, y, test_size=tsize)\n",
    "    RF_alpha = RF_alpha.fit(X_train,y_train)\n",
    "    y_pred = RF_alpha.predict(X_test)\n",
    "    score = RMSPE(y_test,y_pred)\n",
    "    print(score)\n",
    "    return score\n",
    "\n",
    "tsize_list = [0.2,0.15,0.1,0.07,0.04,0.02,0.01]\n",
    "score_list = []\n",
    "for size in tsize_list:\n",
    "    score_list.append(RF_alpha_tsize(X,y,size))"
   ]
  },
  {
   "cell_type": "code",
   "execution_count": 19,
   "metadata": {},
   "outputs": [
    {
     "data": {
      "text/plain": [
       "Text(0,0.5,'Validation Score')"
      ]
     },
     "execution_count": 19,
     "metadata": {},
     "output_type": "execute_result"
    },
    {
     "data": {
      "image/png": "[encoded data removed]",
      "text/plain": [
       "<Figure size 432x288 with 1 Axes>"
      ]
     },
     "metadata": {},
     "output_type": "display_data"
    }
   ],
   "source": [
    "import matplotlib.pyplot as plt\n",
    "%matplotlib inline\n",
    "plt.plot(tsize_list,score_list)\n",
    "plt.ylim(0.1,0.12)\n",
    "plt.xlabel('Test Size')\n",
    "plt.ylabel('Validation Score')"
   ]
  },
  {
   "cell_type": "markdown",
   "metadata": {},
   "source": [
    "由于本项目中的数据量还是比较可观，因此在 testsize 在0.01到0.1之间时，模型的表现比较稳定，所以后续过程中可以初步确定9：1的训练-验证划分比例。"
   ]
  },
  {
   "cell_type": "markdown",
   "metadata": {},
   "source": [
    "### 1.2. Random Forest Optimizing\n",
    "\n",
    "随机森林算法中涉及的参数有很多，通过之前项目的学习，我计划对n_estimators，max_features 以及 max_depth 这三个主要参数进行优化搜索。各个参数的取值范围及取值理由如下：\n",
    "\n",
    "- n_estimators: 初步选取 10,20,50,80,100,150,200 进行试算，10为算法的默认取值，100为大部分文献中的取值。\n",
    "- max_features：初步选取 0.1,0.2,0.4,0.6,0.8,1 进行试算，该值确定的是决策树的特征量，我采用了比例设定的方式覆盖了多数文献中使用的比例范围。\n",
    "- max_depth:初步选择2到8进行试算。"
   ]
  },
  {
   "cell_type": "code",
   "execution_count": 5,
   "metadata": {},
   "outputs": [],
   "source": [
    "nes = np.array([10,20,50,80,100,150,200])\n",
    "mfs = np.array([0.1,0.2,0.4,0.6,0.8,1])\n",
    "mds = np.arange(2,9,1)"
   ]
  },
  {
   "cell_type": "code",
   "execution_count": null,
   "metadata": {},
   "outputs": [],
   "source": [
    "# 首先研究n estimator对结果的影响，这里使用了10拆分的交叉验证\n",
    "# 由于ipython在运行multithread任务时会出错，所以这里的代码在外部运行。\n",
    "\n",
    "nes_scores = {}\n",
    "for ne in nes:\n",
    "    print('when n estimator = ',ne)\n",
    "    RF_beta = RandomForestRegressor(n_estimators=ne)\n",
    "    scores = cross_val_score(RF_beta,X,y,scoring=scorer,cv=10, n_jobs=5)\n",
    "#     scores = cross_val_score(RF_beta,X,y,scoring=scorer,cv=10)\n",
    "    nes_scores['{}'.format(ne)]=scores\n",
    "    print('scores = ',scores)"
   ]
  },
  {
   "cell_type": "code",
   "execution_count": null,
   "metadata": {},
   "outputs": [],
   "source": []
  },
  {
   "cell_type": "code",
   "execution_count": null,
   "metadata": {},
   "outputs": [],
   "source": [
    "mfs_scores = {}\n",
    "for mf in mfs:\n",
    "    RF_beta = RandomForestRegressor(max_features=mf)\n",
    "    scores = cross_val_score(RF_beta,X,y,scoring=scorer,cv=10, n_jobs=-1)\n",
    "    nes_scores['{}'.format(ne)]=scores    "
   ]
  },
  {
   "cell_type": "markdown",
   "metadata": {},
   "source": [
    "将基础随机森林回归器（RandomForest Regressor Basic）应用到测试集上，要注意的是，在训练集中我剔除了关门、销售额为0的情况。所以在测试集中，我默认将所有Open=0的样本的销售额判断为0。"
   ]
  },
  {
   "cell_type": "code",
   "execution_count": 21,
   "metadata": {},
   "outputs": [],
   "source": [
    "# 定义一个函数来使用训练后的模型进行预测并整理结果\n",
    "def pred_n_submit(model,test,submission_name):\n",
    "    # 求出预测值\n",
    "    pred = model.predict(test)\n",
    "    \n",
    "    # 将测试集中所有Open=0的样本判断为0销售额\n",
    "    pred_revised = []\n",
    "    for i in range(len(pred)):\n",
    "        if test.Open.values[i]==0.0:\n",
    "            pred_revised.append(0.0)\n",
    "        else:pred_revised.append(pred[i])\n",
    "    \n",
    "    # 将结果整理为submission格式\n",
    "    id_list = pd.read_csv('data/test.csv').Id.values\n",
    "    submission = pd.DataFrame({'Id':id_list,\n",
    "                              'Sales':pred_revised})\n",
    "    submission.to_csv('submission/{}.csv'.format(submission_name),index=False)\n",
    "\n",
    "pred_n_submit(RFR_basic,blanc_test,'RFR_basic_submission')"
   ]
  },
  {
   "cell_type": "markdown",
   "metadata": {},
   "source": [
    "不同参数的试算"
   ]
  },
  {
   "cell_type": "code",
   "execution_count": 17,
   "metadata": {},
   "outputs": [],
   "source": [
    "# 进行预测\n",
    "def pred_n_submit_log(model,submission_name):\n",
    "    # 求出预测值\n",
    "    pred = model.predict(cesar_test)\n",
    "    \n",
    "    # 将测试集中所有Open=0的样本判断为0销售额\n",
    "    # 将取对数的sales值还原\n",
    "    pred_revised = []\n",
    "    for i in range(len(pred)):\n",
    "        if cesar_test.Open.values[i]==0.0:\n",
    "            pred_revised.append(0.0)\n",
    "        else:pred_revised.append(np.e**pred[i])\n",
    "    \n",
    "    # 将结果整理为submission格式\n",
    "    id_list = pd.read_csv('data/test.csv').Id.values\n",
    "    submission = pd.DataFrame({'Id':id_list,\n",
    "                              'Sales':pred_revised})\n",
    "    submission.to_csv('submission/{}.csv'.format(submission_name),index=False)\n",
    "\n",
    "pred_n_submit_log(RFR_basic_cesar,'RFR_basic_cesar')"
   ]
  },
  {
   "cell_type": "markdown",
   "metadata": {},
   "source": [
    "## 2. XGBoost"
   ]
  },
  {
   "cell_type": "code",
   "execution_count": 64,
   "metadata": {
    "scrolled": true
   },
   "outputs": [
    {
     "name": "stdout",
     "output_type": "stream",
     "text": [
      "[0]\teval-rmse:7.85921\ttrain-rmse:7.85533\n",
      "[1]\teval-rmse:7.46675\ttrain-rmse:7.46286\n",
      "[2]\teval-rmse:7.09392\ttrain-rmse:7.09003\n",
      "[3]\teval-rmse:6.73975\ttrain-rmse:6.73585\n",
      "[4]\teval-rmse:6.40329\ttrain-rmse:6.39939\n",
      "[5]\teval-rmse:6.08367\ttrain-rmse:6.07977\n",
      "[6]\teval-rmse:5.78006\ttrain-rmse:5.77615\n",
      "[7]\teval-rmse:5.4916\ttrain-rmse:5.48772\n",
      "[8]\teval-rmse:5.21766\ttrain-rmse:5.21372\n",
      "[9]\teval-rmse:4.95742\ttrain-rmse:4.95345\n",
      "[10]\teval-rmse:4.71018\ttrain-rmse:4.7062\n",
      "[11]\teval-rmse:4.47533\ttrain-rmse:4.47134\n",
      "[12]\teval-rmse:4.25225\ttrain-rmse:4.24824\n",
      "[13]\teval-rmse:4.04033\ttrain-rmse:4.03631\n",
      "[14]\teval-rmse:3.83905\ttrain-rmse:3.83498\n",
      "[15]\teval-rmse:3.64786\ttrain-rmse:3.64376\n",
      "[16]\teval-rmse:3.46628\ttrain-rmse:3.46211\n",
      "[17]\teval-rmse:3.29374\ttrain-rmse:3.28958\n",
      "[18]\teval-rmse:3.12989\ttrain-rmse:3.12569\n",
      "[19]\teval-rmse:2.97426\ttrain-rmse:2.97002\n",
      "[20]\teval-rmse:2.82643\ttrain-rmse:2.82216\n",
      "[21]\teval-rmse:2.68602\ttrain-rmse:2.68172\n",
      "[22]\teval-rmse:2.55263\ttrain-rmse:2.54834\n",
      "[23]\teval-rmse:2.42601\ttrain-rmse:2.42164\n",
      "[24]\teval-rmse:2.3057\ttrain-rmse:2.30133\n",
      "[25]\teval-rmse:2.19144\ttrain-rmse:2.18707\n",
      "[26]\teval-rmse:2.0829\ttrain-rmse:2.07853\n",
      "[27]\teval-rmse:1.97988\ttrain-rmse:1.97548\n",
      "[28]\teval-rmse:1.88205\ttrain-rmse:1.87762\n",
      "[29]\teval-rmse:1.78909\ttrain-rmse:1.78469\n",
      "[30]\teval-rmse:1.70087\ttrain-rmse:1.69646\n",
      "[31]\teval-rmse:1.61709\ttrain-rmse:1.61267\n",
      "[32]\teval-rmse:1.53753\ttrain-rmse:1.53312\n",
      "[33]\teval-rmse:1.46195\ttrain-rmse:1.45755\n",
      "[34]\teval-rmse:1.39027\ttrain-rmse:1.38586\n",
      "[35]\teval-rmse:1.32224\ttrain-rmse:1.31782\n",
      "[36]\teval-rmse:1.25755\ttrain-rmse:1.25318\n",
      "[37]\teval-rmse:1.19623\ttrain-rmse:1.19184\n",
      "[38]\teval-rmse:1.13801\ttrain-rmse:1.13364\n",
      "[39]\teval-rmse:1.08282\ttrain-rmse:1.07843\n",
      "[40]\teval-rmse:1.03043\ttrain-rmse:1.02603\n",
      "[41]\teval-rmse:0.980735\ttrain-rmse:0.976323\n",
      "[42]\teval-rmse:0.933508\ttrain-rmse:0.929114\n",
      "[43]\teval-rmse:0.888819\ttrain-rmse:0.884406\n",
      "[44]\teval-rmse:0.846433\ttrain-rmse:0.842001\n",
      "[45]\teval-rmse:0.806149\ttrain-rmse:0.801768\n",
      "[46]\teval-rmse:0.767941\ttrain-rmse:0.763575\n",
      "[47]\teval-rmse:0.731805\ttrain-rmse:0.72744\n",
      "[48]\teval-rmse:0.697617\ttrain-rmse:0.693219\n",
      "[49]\teval-rmse:0.6652\ttrain-rmse:0.660795\n",
      "[50]\teval-rmse:0.634437\ttrain-rmse:0.630019\n",
      "[51]\teval-rmse:0.605338\ttrain-rmse:0.600929\n",
      "[52]\teval-rmse:0.577833\ttrain-rmse:0.573409\n",
      "[53]\teval-rmse:0.551699\ttrain-rmse:0.547311\n",
      "[54]\teval-rmse:0.527017\ttrain-rmse:0.522616\n",
      "[55]\teval-rmse:0.503703\ttrain-rmse:0.499314\n",
      "[56]\teval-rmse:0.48171\ttrain-rmse:0.477306\n",
      "[57]\teval-rmse:0.460915\ttrain-rmse:0.456534\n",
      "[58]\teval-rmse:0.441308\ttrain-rmse:0.436917\n",
      "[59]\teval-rmse:0.42273\ttrain-rmse:0.418371\n",
      "[60]\teval-rmse:0.405251\ttrain-rmse:0.400857\n",
      "[61]\teval-rmse:0.388795\ttrain-rmse:0.38441\n",
      "[62]\teval-rmse:0.373318\ttrain-rmse:0.36894\n",
      "[63]\teval-rmse:0.358574\ttrain-rmse:0.354262\n",
      "[64]\teval-rmse:0.344883\ttrain-rmse:0.340538\n",
      "[65]\teval-rmse:0.332047\ttrain-rmse:0.327685\n",
      "[66]\teval-rmse:0.319891\ttrain-rmse:0.315578\n",
      "[67]\teval-rmse:0.308513\ttrain-rmse:0.304193\n",
      "[68]\teval-rmse:0.297856\ttrain-rmse:0.293557\n",
      "[69]\teval-rmse:0.287863\ttrain-rmse:0.283578\n",
      "[70]\teval-rmse:0.27851\ttrain-rmse:0.274275\n",
      "[71]\teval-rmse:0.269675\ttrain-rmse:0.265503\n",
      "[72]\teval-rmse:0.261213\ttrain-rmse:0.257073\n",
      "[73]\teval-rmse:0.253498\ttrain-rmse:0.249425\n",
      "[74]\teval-rmse:0.246202\ttrain-rmse:0.242074\n",
      "[75]\teval-rmse:0.239474\ttrain-rmse:0.235408\n",
      "[76]\teval-rmse:0.233159\ttrain-rmse:0.22913\n",
      "[77]\teval-rmse:0.22713\ttrain-rmse:0.223157\n",
      "[78]\teval-rmse:0.221688\ttrain-rmse:0.217789\n",
      "[79]\teval-rmse:0.216779\ttrain-rmse:0.212903\n",
      "[80]\teval-rmse:0.211914\ttrain-rmse:0.208094\n",
      "[81]\teval-rmse:0.207642\ttrain-rmse:0.203875\n",
      "[82]\teval-rmse:0.203673\ttrain-rmse:0.199952\n",
      "[83]\teval-rmse:0.199868\ttrain-rmse:0.196197\n",
      "[84]\teval-rmse:0.196393\ttrain-rmse:0.192756\n",
      "[85]\teval-rmse:0.193229\ttrain-rmse:0.189638\n",
      "[86]\teval-rmse:0.190248\ttrain-rmse:0.186745\n",
      "[87]\teval-rmse:0.187613\ttrain-rmse:0.184156\n",
      "[88]\teval-rmse:0.185168\ttrain-rmse:0.181764\n",
      "[89]\teval-rmse:0.182944\ttrain-rmse:0.179589\n",
      "[90]\teval-rmse:0.180743\ttrain-rmse:0.177432\n",
      "[91]\teval-rmse:0.178786\ttrain-rmse:0.175542\n",
      "[92]\teval-rmse:0.176926\ttrain-rmse:0.173735\n",
      "[93]\teval-rmse:0.175233\ttrain-rmse:0.172111\n",
      "[94]\teval-rmse:0.173737\ttrain-rmse:0.170645\n",
      "[95]\teval-rmse:0.172326\ttrain-rmse:0.169247\n",
      "[96]\teval-rmse:0.170933\ttrain-rmse:0.167904\n",
      "[97]\teval-rmse:0.169682\ttrain-rmse:0.16672\n",
      "[98]\teval-rmse:0.168504\ttrain-rmse:0.165582\n",
      "[99]\teval-rmse:0.167448\ttrain-rmse:0.164583\n"
     ]
    }
   ],
   "source": [
    "import xgboost as xgb\n",
    "\n",
    "params = {'objective':'reg:linear',\n",
    "         'eta':0.05,\n",
    "         'booster':'gbtree'}\n",
    "\n",
    "features = list(cesar_train.columns.values)\n",
    "features.remove('Sales')\n",
    "\n",
    "X_train, X_test, y_train, y_test = train_test_split(cesar_train[features], cesar_train['Sales'], test_size=0.01, random_state=42)\n",
    "dtrain = xgb.DMatrix(X_train,y_train)\n",
    "dtest = xgb.DMatrix(X_test,y_test)\n",
    "watchlist = [(dtest, 'eval'), (dtrain, 'train')]\n",
    "num_boost_round = 100\n",
    "\n",
    "bst = xgb.train(params , dtrain , num_boost_round,watchlist,verbose_eval=True)"
   ]
  },
  {
   "cell_type": "code",
   "execution_count": 61,
   "metadata": {},
   "outputs": [],
   "source": [
    "# predict\n",
    "cesar_xgb_test = xgb.DMatrix(cesar_test)\n",
    "pred = bst.predict(cesar_xgb_test)"
   ]
  },
  {
   "cell_type": "code",
   "execution_count": 63,
   "metadata": {},
   "outputs": [],
   "source": [
    "# 将测试集中所有Open=0的样本判断为0销售额\n",
    "# 将取对数的sales值还原\n",
    "pred_revised = []\n",
    "for i in range(len(pred)):\n",
    "    if cesar_test.Open.values[i]==0.0:\n",
    "        pred_revised.append(0.0)\n",
    "    else:pred_revised.append(np.e**pred[i])\n",
    "\n",
    "# 将结果整理为submission格式\n",
    "id_list = pd.read_csv('data/test.csv').Id.values\n",
    "submission = pd.DataFrame({'Id':id_list,\n",
    "                          'Sales':pred_revised})\n",
    "submission.to_csv('submission/cesar_xgb_basic.csv',index=False)"
   ]
  }
 ],
 "metadata": {
  "kernelspec": {
   "display_name": "Python 3",
   "language": "python",
   "name": "python3"
  },
  "language_info": {
   "codemirror_mode": {
    "name": "ipython",
    "version": 3
   },
   "file_extension": ".py",
   "mimetype": "text/x-python",
   "name": "python",
   "nbconvert_exporter": "python",
   "pygments_lexer": "ipython3",
   "version": "3.6.3"
  }
 },
 "nbformat": 4,
 "nbformat_minor": 2
}
