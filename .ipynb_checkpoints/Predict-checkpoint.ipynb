{
 "cells": [
  {
   "cell_type": "markdown",
   "metadata": {},
   "source": [
    "# Rossman 销售额预测 -- 进行机器学习预测\n",
    "\n",
    "这里将使用特征工程 Feature Engineering 这个 notebook 整理的成果进行预测，在预测过程中，我要使用RMPSE作为评价方法来反应模型的表现。"
   ]
  },
  {
   "cell_type": "code",
   "execution_count": 7,
   "metadata": {},
   "outputs": [],
   "source": [
    "def RMSPE(test,pred):\n",
    "    return np.sqrt(np.mean(((test-pred)/pred)**2))"
   ]
  },
  {
   "cell_type": "markdown",
   "metadata": {},
   "source": [
    "## 1. Random Forest\n",
    "\n",
    "首先建立预测模型并查看验证集评价"
   ]
  },
  {
   "cell_type": "code",
   "execution_count": 13,
   "metadata": {
    "scrolled": true
   },
   "outputs": [
    {
     "data": {
      "text/plain": [
       "0.11654799263088016"
      ]
     },
     "execution_count": 13,
     "metadata": {},
     "output_type": "execute_result"
    }
   ],
   "source": [
    "import pandas as pd\n",
    "from sklearn.ensemble import RandomForestRegressor\n",
    "from sklearn.model_selection import train_test_split\n",
    "import numpy as np\n",
    "\n",
    "train = pd.read_csv('data/good_train_filled.csv')\n",
    "\n",
    "y = data.Sales\n",
    "X = data.drop(['Sales'], axis=1)\n",
    "\n",
    "X_train, X_test, y_train, y_test = train_test_split(X, y, test_size=0.33, random_state=42)\n",
    "\n",
    "learner = RandomForestRegressor().fit(X_train, y_train)\n",
    "\n",
    "RMSPE(y_test,y_pred)"
   ]
  },
  {
   "cell_type": "markdown",
   "metadata": {},
   "source": [
    "验证集的RMPSE为0.11654799263088016，已经满足了我设定的benchmark。将模型应用到测试集进行成果提交"
   ]
  },
  {
   "cell_type": "code",
   "execution_count": 21,
   "metadata": {},
   "outputs": [
    {
     "name": "stdout",
     "output_type": "stream",
     "text": [
      "[ 6179.  10359.8 11883.2 ...  6466.7 30526.3 12224.5]\n"
     ]
    }
   ],
   "source": [
    "test = pd.read_csv('data/good_test_filled.csv')\n",
    "\n",
    "pred = learner.predict(test)\n",
    "\n",
    "# 整理为submission 格式。\n",
    "\n",
    "id_list = pd.read_csv('data/test.csv').Id.values\n",
    "submission = pd.DataFrame()\n",
    "submission['Id'] = id_list\n",
    "submission['Sales'] = pred\n",
    "submission.head()\n",
    "submission.to_csv('data/randomforest_submission.csv')"
   ]
  },
  {
   "cell_type": "code",
   "execution_count": null,
   "metadata": {},
   "outputs": [],
   "source": []
  },
  {
   "cell_type": "code",
   "execution_count": null,
   "metadata": {},
   "outputs": [],
   "source": []
  },
  {
   "cell_type": "code",
   "execution_count": null,
   "metadata": {},
   "outputs": [],
   "source": []
  },
  {
   "cell_type": "code",
   "execution_count": null,
   "metadata": {},
   "outputs": [],
   "source": []
  },
  {
   "cell_type": "code",
   "execution_count": null,
   "metadata": {},
   "outputs": [],
   "source": []
  },
  {
   "cell_type": "code",
   "execution_count": null,
   "metadata": {},
   "outputs": [],
   "source": []
  },
  {
   "cell_type": "code",
   "execution_count": null,
   "metadata": {},
   "outputs": [],
   "source": []
  },
  {
   "cell_type": "code",
   "execution_count": null,
   "metadata": {},
   "outputs": [],
   "source": [
    "import pandas as pd\n",
    "from sklearn.model_selection import train_test_split\n",
    "import xgboost as xgb\n",
    "\n",
    "data = pd.read_csv('data/good_train.csv')\n",
    "\n",
    "y = data.Sales\n",
    "X = data.drop(['Sales'], axis=1)\n",
    "\n",
    "X_train, X_test, y_train, y_test = train_test_split(X, y, test_size=0.33, random_state=42)\n",
    "\n",
    "xlf = xgb.XGBRegressor(max_depth=12, \n",
    "                        silent=True, \n",
    "                        objective='reg:linear', \n",
    "                        nthread=-8, \n",
    "                        gamma=2,\n",
    "                        max_child_weight=50, \n",
    "                        booster='gbtree', \n",
    "                        subsample=0.85, \n",
    "                        colsample_bytree=0.7, \n",
    "                        eta=0.1,\n",
    "                        max_bin=600)\n",
    "\n",
    "xlf.fit(X_train, y_train, eval_metric='rmse', verbose = True, eval_set = [(X_test, y_test)],early_stopping_rounds=100)\n",
    "\n",
    "# 计算 auc 分数、预测\n",
    "preds = xlf.predict(X_test)"
   ]
  }
 ],
 "metadata": {
  "kernelspec": {
   "display_name": "Python 3",
   "language": "python",
   "name": "python3"
  },
  "language_info": {
   "codemirror_mode": {
    "name": "ipython",
    "version": 3
   },
   "file_extension": ".py",
   "mimetype": "text/x-python",
   "name": "python",
   "nbconvert_exporter": "python",
   "pygments_lexer": "ipython3",
   "version": "3.6.4"
  }
 },
 "nbformat": 4,
 "nbformat_minor": 2
}
