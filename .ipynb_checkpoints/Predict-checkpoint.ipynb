{
 "cells": [
  {
   "cell_type": "markdown",
   "metadata": {},
   "source": [
    "# Rossman 销售额预测 -- 进行机器学习预测\n",
    "\n",
    "这里将使用特征工程 Feature Engineering notebook 整理的成果进行预测，在预测过程中，我要使用RMPSE作为评价方法来反应模型的表现。"
   ]
  },
  {
   "cell_type": "code",
   "execution_count": 1,
   "metadata": {},
   "outputs": [],
   "source": [
    "from sklearn.metrics import make_scorer\n",
    "\n",
    "def RMSPE(test,pred):\n",
    "    # 在特征工程中，Sales被取对数，这里计算评分时要还原\n",
    "    test = np.e**test\n",
    "    pred = np.e**pred\n",
    "    return np.sqrt(np.mean(((test-pred)/pred)**2))\n",
    "scorer = make_scorer(RMSPE)"
   ]
  },
  {
   "cell_type": "markdown",
   "metadata": {},
   "source": [
    "## 1. Random Forest"
   ]
  },
  {
   "cell_type": "code",
   "execution_count": 30,
   "metadata": {},
   "outputs": [],
   "source": [
    "# 引用必要的库\n",
    "import numpy as np\n",
    "import pandas as pd\n",
    "from sklearn.ensemble import RandomForestRegressor\n",
    "from sklearn.model_selection import train_test_split, cross_val_score, KFold\n",
    "\n",
    "# 读入数据集\n",
    "cesar_train = pd.read_csv('data/cesar_train.csv',index_col=False)\n",
    "cesar_test = pd.read_csv('data/cesar_test.csv',index_col=False)\n",
    "X = cesar_train.drop(['Sales'],axis=1)\n",
    "y = cesar_train.Sales"
   ]
  },
  {
   "cell_type": "markdown",
   "metadata": {},
   "source": [
    "### 1.1. Random Forest default\n",
    "\n",
    "使用默认参数下的随机森林回归算法"
   ]
  },
  {
   "cell_type": "code",
   "execution_count": 3,
   "metadata": {},
   "outputs": [
    {
     "name": "stdout",
     "output_type": "stream",
     "text": [
      "0.1112023005729222\n"
     ]
    }
   ],
   "source": [
    "# 建立最基础的随机森林回归器\n",
    "RF_alpha = RandomForestRegressor()\n",
    "# 将训练集进行再划分\n",
    "X_train, X_test, y_train, y_test = train_test_split(X, y)\n",
    "# 进行训练和评价\n",
    "RF_alpha = RF_alpha.fit(X_train,y_train)\n",
    "y_pred = RF_alpha.predict(X_test)\n",
    "print(RMSPE(y_test,y_pred))"
   ]
  },
  {
   "cell_type": "code",
   "execution_count": 12,
   "metadata": {},
   "outputs": [
    {
     "name": "stdout",
     "output_type": "stream",
     "text": [
      "0.1094229018831378\n",
      "0.10859594051864113\n",
      "0.106686402870307\n",
      "0.10714170553098483\n",
      "0.10774479935323386\n",
      "0.1079538177853957\n",
      "0.10639858165205385\n"
     ]
    }
   ],
   "source": [
    "# 调整 testsize 并进行评价\n",
    "def RF_alpha_tsize(X,y,tsize):\n",
    "    RF_alpha = RandomForestRegressor()\n",
    "    X_train, X_test, y_train, y_test = train_test_split(X, y, test_size=tsize)\n",
    "    RF_alpha = RF_alpha.fit(X_train,y_train)\n",
    "    y_pred = RF_alpha.predict(X_test)\n",
    "    score = RMSPE(y_test,y_pred)\n",
    "    print(score)\n",
    "    return score\n",
    "\n",
    "tsize_list = [0.2,0.15,0.1,0.07,0.04,0.02,0.01]\n",
    "score_list = []\n",
    "for size in tsize_list:\n",
    "    score_list.append(RF_alpha_tsize(X,y,size))"
   ]
  },
  {
   "cell_type": "code",
   "execution_count": 19,
   "metadata": {},
   "outputs": [
    {
     "data": {
      "text/plain": [
       "Text(0,0.5,'Validation Score')"
      ]
     },
     "execution_count": 19,
     "metadata": {},
     "output_type": "execute_result"
    },
    {
     "data": {
      "image/png": "[encoded data removed]",
      "text/plain": [
       "<Figure size 432x288 with 1 Axes>"
      ]
     },
     "metadata": {},
     "output_type": "display_data"
    }
   ],
   "source": [
    "import matplotlib.pyplot as plt\n",
    "%matplotlib inline\n",
    "plt.plot(tsize_list,score_list)\n",
    "plt.ylim(0.1,0.12)\n",
    "plt.xlabel('Test Size')\n",
    "plt.ylabel('Validation Score')"
   ]
  },
  {
   "cell_type": "markdown",
   "metadata": {},
   "source": [
    "由于本项目中的数据量还是比较可观，因此在 testsize 在0.01到0.1之间时，模型的表现比较稳定，所以后续过程中可以初步确定9：1的训练-验证划分比例。"
   ]
  },
  {
   "cell_type": "markdown",
   "metadata": {},
   "source": [
    "### 1.2. Random Forest Optimizing\n",
    "\n",
    "随机森林算法中涉及的参数有很多，通过之前项目的学习，我计划对n_estimators，max_features 以及 max_depth 这三个主要参数进行优化搜索。各个参数的取值范围及取值理由如下：\n",
    "\n",
    "- n_estimators: 初步选取 50,80,100,150,200 进行试算，10为算法的默认取值，100为大部分文献中的取值。\n",
    "- max_features：初步选取 0.1,0.2,0.4,0.6,0.8,1 进行试算，该值确定的是决策树的特征量，我采用了比例设定的方式覆盖了多数文献中使用的比例范围。\n",
    "- max_depth: 初步选择2到8进行试算。\n",
    "\n",
    "最初准备使用网格搜索法对上述所有参数进行综合搜索。但是经过尝试和思考，认为直接进行网格搜索有两个不足：\n",
    "\n",
    "- 对于上述三个参数，现在的取值范围都是根据类似研究中的取值来确立的，不能保证在既定范围内存在理想的较优值，也无法获知每一项参数变动对结果准确性的影响；\n",
    "- 网格搜索的计算量庞大，而暂时没有找到容易上手的随机森林gpu加速算法，虽然通过cpu多线程（$\\times 12 $）并行可以对计算过程提速，但是个人计算机的内存不足以支撑多个模型并行计算，只能采用单线程，因此计算的时间成本极高。\n",
    "\n",
    "因此，计划首先对各个参数进行分项计算，得出每一项参数的较优值，然后再重新划定合理的范围进行网格搜索优化。\n",
    "\n",
    "#### 1.2.1. n_estimators optimizing"
   ]
  },
  {
   "cell_type": "code",
   "execution_count": 3,
   "metadata": {},
   "outputs": [],
   "source": [
    "nes = np.array([50,100,150,200,250])\n",
    "mfs = np.array([0.1,0.2,0.4,0.6,0.8,1])\n",
    "mds = np.arange(2,9,1)"
   ]
  },
  {
   "cell_type": "code",
   "execution_count": 6,
   "metadata": {
    "scrolled": true
   },
   "outputs": [
    {
     "name": "stdout",
     "output_type": "stream",
     "text": [
      "when n estimator =  50\n",
      "scores =  [0.13628862 0.14037945 0.14836998 0.11470293 0.14591237 0.12210915\n",
      " 0.17767619 0.12450922 0.12959932 0.15855347]\n",
      "when n estimator =  100\n",
      "scores =  [0.13560081 0.13959793 0.14710886 0.11409642 0.14536743 0.1207854\n",
      " 0.17666403 0.12401182 0.12884184 0.15740034]\n",
      "when n estimator =  150\n",
      "scores =  [0.13537927 0.1392616  0.14669086 0.11397134 0.14522474 0.12087506\n",
      " 0.17635782 0.12405047 0.12872758 0.15743372]\n",
      "when n estimator =  200\n",
      "scores =  [0.1352734  0.13914744 0.14665855 0.11388815 0.14516812 0.12107704\n",
      " 0.17639801 0.12403763 0.12839755 0.15809819]\n",
      "when n estimator =  250\n",
      "scores =  [0.13518981 0.13904203 0.14644017 0.11383543 0.14511845 0.1210241\n",
      " 0.17663028 0.12388465 0.12839672 0.15821991]\n"
     ]
    }
   ],
   "source": [
    "# 首先研究n estimator对结果的影响，这里使用了10拆分的交叉验证\n",
    "\n",
    "nes_scores = {}\n",
    "for ne in nes:\n",
    "    print('when n estimator = ',ne)\n",
    "    RF_beta = RandomForestRegressor(n_estimators=ne)\n",
    "    scores = cross_val_score(RF_beta,X,y,scoring=scorer,cv=10, n_jobs=12)\n",
    "    nes_scores['{}'.format(ne)]=scores\n",
    "    print('scores = ',scores)"
   ]
  },
  {
   "cell_type": "code",
   "execution_count": 3,
   "metadata": {},
   "outputs": [],
   "source": [
    "import matplotlib.pyplot as plt\n",
    "\n",
    "ness = np.loadtxt('n_estimators')\n",
    "nes = ness.T[0]\n",
    "nes_scores = ness.T[1:].T"
   ]
  },
  {
   "cell_type": "code",
   "execution_count": 4,
   "metadata": {},
   "outputs": [
    {
     "data": {
      "text/plain": [
       "Text(0,0.5,'mean score of 10 cv')"
      ]
     },
     "execution_count": 4,
     "metadata": {},
     "output_type": "execute_result"
    },
    {
     "data": {
      "image/png": "[encoded data removed]",
      "text/plain": [
       "<Figure size 432x288 with 1 Axes>"
      ]
     },
     "metadata": {},
     "output_type": "display_data"
    }
   ],
   "source": [
    "nes_mean = [np.mean(i) for i in nes_scores]\n",
    "nes_max = [max(i) for i in nes_scores]\n",
    "nes_min = [min(i) for i in nes_scores]\n",
    "\n",
    "plt.plot(nes, nes_mean)\n",
    "plt.xlabel('n_estimators')\n",
    "plt.ylabel('mean score of 10 cv')\n",
    "# plt.plot(nes, nes_max)\n",
    "# plt.plot(nes,nes_min)"
   ]
  },
  {
   "cell_type": "markdown",
   "metadata": {},
   "source": [
    "可以看出，随着 n estimators 数量的增加，模型的得分均值也在增加，当 n estimators 大于100时，曲线的变化逐渐变缓，为了兼顾计算经济性和准确性，我选择150作为一个较优的n_estimators 值。\n",
    "\n",
    "#### 1.2.2. max_features optimizing"
   ]
  },
  {
   "cell_type": "code",
   "execution_count": 5,
   "metadata": {},
   "outputs": [
    {
     "name": "stdout",
     "output_type": "stream",
     "text": [
      "when max features =  0.1\n",
      "scores =  [0.1256808  0.128594   0.14969299 0.11116018 0.1400017  0.11704749\n",
      " 0.16543282 0.12737558 0.12570587 0.15151046]\n",
      "when max features =  0.2\n",
      "scores =  [0.12663005 0.12669841 0.14195129 0.10765672 0.13772763 0.11232503\n",
      " 0.16325432 0.12076588 0.12549353 0.15018254]\n",
      "when max features =  0.4\n",
      "scores =  [0.12765853 0.12967447 0.13713562 0.10720935 0.13942102 0.11185221\n",
      " 0.1630444  0.11906302 0.12674461 0.15170394]\n",
      "when max features =  0.6\n",
      "scores =  [0.12966212 0.13246622 0.1379544  0.10884295 0.14098655 0.1140232\n",
      " 0.1658465  0.11964002 0.12694696 0.15314147]\n",
      "when max features =  0.8\n",
      "scores =  [0.13174698 0.13551271 0.14029255 0.11053444 0.14262687 0.11687965\n",
      " 0.16933752 0.12113443 0.12732014 0.15493536]\n",
      "when max features =  1.0\n",
      "scores =  [0.13518632 0.13880886 0.14698743 0.11381826 0.14520095 0.12091177\n",
      " 0.17635712 0.12395451 0.12874521 0.15778401]\n"
     ]
    }
   ],
   "source": [
    "# 搜索最优化的 max features\n",
    "mfs_scores = {}\n",
    "for mf in mfs:\n",
    "    print('when max features = ',mf)\n",
    "    RF_beta = RandomForestRegressor(max_features=mf,n_estimators=150)\n",
    "    scores = cross_val_score(RF_beta,X,y,scoring=scorer,cv=10)\n",
    "    mfs_scores['{}'.format(mf)]=scores  \n",
    "    print('scores = ',scores)  "
   ]
  },
  {
   "cell_type": "code",
   "execution_count": 12,
   "metadata": {},
   "outputs": [
    {
     "data": {
      "text/plain": [
       "[<matplotlib.lines.Line2D at 0x1c89505ab70>]"
      ]
     },
     "execution_count": 12,
     "metadata": {},
     "output_type": "execute_result"
    },
    {
     "data": {
      "image/png": "[encoded data removed]",
      "text/plain": [
       "<Figure size 432x288 with 1 Axes>"
      ]
     },
     "metadata": {},
     "output_type": "display_data"
    }
   ],
   "source": [
    "import matplotlib.pyplot as plt\n",
    "%matplotlib inline\n",
    "mfs_scores.keys()\n",
    "mfs_mean = [np.mean(i) for i in mfs_scores.values()]\n",
    "plt.plot(mfs,mfs_mean)"
   ]
  },
  {
   "cell_type": "markdown",
   "metadata": {},
   "source": [
    "可以看出，当 max features 参数为 0.2 时结果较优。\n",
    "\n",
    "#### 1.2.3. max_depth optimizing"
   ]
  },
  {
   "cell_type": "code",
   "execution_count": 13,
   "metadata": {},
   "outputs": [
    {
     "name": "stdout",
     "output_type": "stream",
     "text": [
      "when max depth =  2\n",
      "scores =  [0.32389222 0.31510069 0.35112031 0.30461062 0.34060128 0.29180581\n",
      " 0.34175034 0.3067801  0.30741662 0.31636857]\n",
      "when max depth =  3\n",
      "scores =  [0.27443821 0.26837757 0.29944786 0.25630618 0.28156744 0.25145261\n",
      " 0.29713876 0.2610575  0.26536804 0.28429023]\n",
      "when max depth =  4\n",
      "scores =  [0.24672871 0.2451479  0.2669376  0.222174   0.24875107 0.22040662\n",
      " 0.26384985 0.23216074 0.22955435 0.25025197]\n",
      "when max depth =  5\n",
      "scores =  [0.22306858 0.21659641 0.24530004 0.19704117 0.22448664 0.19977638\n",
      " 0.24144082 0.21289937 0.20706372 0.23312568]\n",
      "when max depth =  6\n",
      "scores =  [0.20873303 0.20623528 0.23145217 0.18361463 0.20989579 0.18673576\n",
      " 0.23132475 0.19124883 0.19334759 0.2191843 ]\n",
      "when max depth =  7\n",
      "scores =  [0.20100416 0.19615637 0.22011172 0.171816   0.19917017 0.17780515\n",
      " 0.22160309 0.18680463 0.18479672 0.21013688]\n",
      "when max depth =  8\n",
      "scores =  [0.19296258 0.18841419 0.20936305 0.16428586 0.19100832 0.16839905\n",
      " 0.21344181 0.17605831 0.17681137 0.20366781]\n"
     ]
    }
   ],
   "source": [
    "# 搜索最优化的 max depth\n",
    "mds_scores = {}\n",
    "for md in mds:\n",
    "    print('when max depth = ',md)\n",
    "    RF_beta = RandomForestRegressor(max_depth=md, max_features=0.2,n_estimators=150)\n",
    "    scores = cross_val_score(RF_beta,X,y,scoring=scorer,cv=10)\n",
    "    mds_scores['{}'.format(mf)]=scores  \n",
    "    print('scores = ',scores)  "
   ]
  },
  {
   "cell_type": "code",
   "execution_count": 14,
   "metadata": {},
   "outputs": [
    {
     "name": "stdout",
     "output_type": "stream",
     "text": [
      "when max depth =  9\n",
      "scores =  [0.18568173 0.18161143 0.2005699  0.1574369  0.1818592  0.16316372\n",
      " 0.20693501 0.168371   0.17101635 0.19777485]\n",
      "when max depth =  10\n",
      "scores =  [0.18067557 0.17383734 0.19200254 0.15083353 0.1762474  0.15621074\n",
      " 0.1985095  0.16165342 0.16325187 0.19110468]\n",
      "when max depth =  12\n",
      "scores =  [0.16672707 0.16032821 0.17493494 0.13887235 0.16452867 0.14287158\n",
      " 0.18508601 0.14961444 0.15122064 0.18029675]\n",
      "when max depth =  14\n",
      "scores =  [0.15569221 0.14708117 0.15966472 0.12880075 0.15311211 0.13255673\n",
      " 0.17576718 0.14032295 0.13991304 0.16909011]\n",
      "when max depth =  16\n",
      "scores =  [0.1438252  0.13762252 0.15130266 0.11996414 0.14515278 0.12344172\n",
      " 0.16783531 0.13222496 0.13305747 0.16025712]\n",
      "when max depth =  18\n",
      "scores =  [0.13628264 0.13125032 0.14641951 0.11430434 0.14034486 0.11844775\n",
      " 0.16437325 0.12699175 0.12803095 0.15475521]\n",
      "when max depth =  20\n",
      "scores =  [0.13008003 0.12762001 0.14419317 0.11053508 0.13817061 0.11475449\n",
      " 0.1636139  0.12325113 0.1255633  0.15134706]\n"
     ]
    }
   ],
   "source": [
    "# 搜索更多的 max depth\n",
    "for md in [9,10,12,14,16,18,20]:\n",
    "    print('when max depth = ',md)\n",
    "    RF_beta = RandomForestRegressor(max_depth=md, max_features=0.2,n_estimators=150)\n",
    "    scores = cross_val_score(RF_beta,X,y,scoring=scorer,cv=10)\n",
    "    mds_scores['{}'.format(mf)]=scores  \n",
    "    print('scores = ',scores)  "
   ]
  },
  {
   "cell_type": "code",
   "execution_count": 15,
   "metadata": {},
   "outputs": [
    {
     "name": "stdout",
     "output_type": "stream",
     "text": [
      "when max depth =  22\n",
      "scores =  [0.12797605 0.12616157 0.14248072 0.10850202 0.13708456 0.11328278\n",
      " 0.16254793 0.12107453 0.1247512  0.15009877]\n",
      "when max depth =  25\n",
      "scores =  [0.12646697 0.1259587  0.14239037 0.10752337 0.13710706 0.11244243\n",
      " 0.16137547 0.12088309 0.12480851 0.15047758]\n",
      "when max depth =  28\n",
      "scores =  [0.12666125 0.12648064 0.14244988 0.1073981  0.13770762 0.11242738\n",
      " 0.16306895 0.12050379 0.12538052 0.14987719]\n",
      "when max depth =  30\n",
      "scores =  [0.1262269  0.12659923 0.14270756 0.10739494 0.13775006 0.11229355\n",
      " 0.16289716 0.12047142 0.1257891  0.15004283]\n",
      "when max depth =  33\n",
      "scores =  [0.12666333 0.12631873 0.14286955 0.1073587  0.13788371 0.11279454\n",
      " 0.16100102 0.12059629 0.12547295 0.15055946]\n",
      "when max depth =  35\n",
      "scores =  [0.12661435 0.12659523 0.14266988 0.10735161 0.13765053 0.1123806\n",
      " 0.1638061  0.1204807  0.12558775 0.15041548]\n",
      "when max depth =  38\n",
      "scores =  [0.12621686 0.12627542 0.142972   0.10743107 0.13772164 0.11248503\n",
      " 0.16399394 0.12030058 0.12552682 0.15047728]\n",
      "when max depth =  40\n",
      "scores =  [0.12653089 0.12649108 0.14179441 0.10717965 0.13790839 0.11256762\n",
      " 0.16356864 0.12042529 0.12558386 0.15001808]\n"
     ]
    }
   ],
   "source": [
    "# 搜索更多的 max depth\n",
    "for md in [22,25,28,30,33,35,38,40]:\n",
    "    print('when max depth = ',md)\n",
    "    RF_beta = RandomForestRegressor(max_depth=md, max_features=0.2,n_estimators=150)\n",
    "    scores = cross_val_score(RF_beta,X,y,scoring=scorer,cv=10)\n",
    "    mds_scores['{}'.format(mf)]=scores  \n",
    "    print('scores = ',scores)  "
   ]
  },
  {
   "cell_type": "code",
   "execution_count": 5,
   "metadata": {},
   "outputs": [
    {
     "data": {
      "text/plain": [
       "Text(0,0.5,'rmspe')"
      ]
     },
     "execution_count": 5,
     "metadata": {},
     "output_type": "execute_result"
    },
    {
     "data": {
      "image/png": "[encoded data removed]",
      "text/plain": [
       "<Figure size 432x288 with 1 Axes>"
      ]
     },
     "metadata": {},
     "output_type": "display_data"
    }
   ],
   "source": [
    "mdss = np.loadtxt('max_depth')\n",
    "mds = mdss.T[0]\n",
    "mds_scores = mdss.T[1:].T\n",
    "\n",
    "mds_mean = [np.mean(i) for i in mds_scores]\n",
    "mds_max = [max(i) for i in mds_scores]\n",
    "mds_min = [min(i) for i in mds_scores]\n",
    "\n",
    "plt.plot(mds, mds_mean)\n",
    "# plt.plot(mds, mds_max)\n",
    "# plt.plot(mds, mds_min)\n",
    "\n",
    "plt.xlabel('max depth')\n",
    "plt.ylabel('rmspe')"
   ]
  },
  {
   "cell_type": "markdown",
   "metadata": {},
   "source": [
    "可以看出，随着最大深度的增加，交叉验证结果的最大值、均值和最小值趋势一致，均为先快速降低，最大深度大于22后则区域稳定，在最大深度大于25后出现少量的反弹。因此，综合结果准确性和计算经济性，选择22最为较优的最大深度。\n",
    " \n",
    "#### 1.2.4. GridSearch\n",
    "\n",
    "通过以上三个步骤的试算，可以初步认为，三项参数的较优值分别为：\n",
    "\n",
    "- n_estimators:150\n",
    "- max_features:0.2\n",
    "- max_depth:22\n",
    "\n",
    "现在在上面三个值的基础上，给予每个参数一定的变化范围，并进行网格搜索。网格搜索的过程中，由于需要大量的计算（2310次fit），个人电脑运行时间过长，内存资源也不足以支撑计算，故使用腾讯云按量计费主机（56vCPU，455GB内存）进行计算，将下面的代码整理为单独脚本 gcv-56core.py 将计算结果保存为gcv.csv文件。"
   ]
  },
  {
   "cell_type": "code",
   "execution_count": null,
   "metadata": {},
   "outputs": [],
   "source": [
    "from sklearn.model_selection import GridSearchCV, KFold\n",
    "\n",
    "X_train, X_test, y_train, y_test = train_test_split(X,y, test_size=0.05, random_state=42)\n",
    "\n",
    "RF_cherry = RandomForestRegressor(random_state=42)\n",
    "parameters = {'n_estimators':np.arange(125,176,5),\n",
    "             'max_features':np.arange(0.15,0.21,0.02),\n",
    "             'max_depth':np.arange(18,25,1)}\n",
    "kfold = KFold(n_splits=10)\n",
    "grid = GridSearchCV(RF_cherry, parameters, scorer, cv=kfold, n_jobs=-1)\n",
    "grid = grid.fit(X_train, y_train)\n",
    "\n",
    "print('best score: %f'%grid.best_score_)\n",
    "print('best parameters:')\n",
    "for key in parameters.keys():\n",
    "    print('%s: %d'%(key, reg.get_params()[key]))\n",
    "\n",
    "print('test score: %f'%reg.score(X_test, y_test))\n",
    "\n",
    "gridcv_results = pd.DataFrame(grid.cv_results_).T\n",
    "\n",
    "gridcv_results.to_csv('gcv.csv')"
   ]
  },
  {
   "cell_type": "code",
   "execution_count": 27,
   "metadata": {},
   "outputs": [
    {
     "data": {
      "text/html": [
       "<div>\n",
       "<style>\n",
       "    .dataframe thead tr:only-child th {\n",
       "        text-align: right;\n",
       "    }\n",
       "\n",
       "    .dataframe thead th {\n",
       "        text-align: left;\n",
       "    }\n",
       "\n",
       "    .dataframe tbody tr th {\n",
       "        vertical-align: top;\n",
       "    }\n",
       "</style>\n",
       "<table border=\"1\" class=\"dataframe\">\n",
       "  <thead>\n",
       "    <tr style=\"text-align: right;\">\n",
       "      <th>content</th>\n",
       "      <th>mean_fit_time</th>\n",
       "      <th>std_fit_time</th>\n",
       "      <th>mean_score_time</th>\n",
       "      <th>std_score_time</th>\n",
       "      <th>param_max_depth</th>\n",
       "      <th>param_max_features</th>\n",
       "      <th>param_n_estimators</th>\n",
       "      <th>params</th>\n",
       "      <th>split0_test_score</th>\n",
       "      <th>split1_test_score</th>\n",
       "      <th>...</th>\n",
       "      <th>split2_train_score</th>\n",
       "      <th>split3_train_score</th>\n",
       "      <th>split4_train_score</th>\n",
       "      <th>split5_train_score</th>\n",
       "      <th>split6_train_score</th>\n",
       "      <th>split7_train_score</th>\n",
       "      <th>split8_train_score</th>\n",
       "      <th>split9_train_score</th>\n",
       "      <th>mean_train_score</th>\n",
       "      <th>std_train_score</th>\n",
       "    </tr>\n",
       "  </thead>\n",
       "  <tbody>\n",
       "    <tr>\n",
       "      <th>0</th>\n",
       "      <td>309.6326595</td>\n",
       "      <td>3.914691428</td>\n",
       "      <td>8.504561472</td>\n",
       "      <td>1.07375785</td>\n",
       "      <td>18</td>\n",
       "      <td>0.15</td>\n",
       "      <td>125</td>\n",
       "      <td>{'max_depth': 18, 'max_features': 0.15, 'n_est...</td>\n",
       "      <td>0.124845375</td>\n",
       "      <td>0.125739628</td>\n",
       "      <td>...</td>\n",
       "      <td>0.108687483</td>\n",
       "      <td>0.108769263</td>\n",
       "      <td>0.10794622</td>\n",
       "      <td>0.10882983</td>\n",
       "      <td>0.108497256</td>\n",
       "      <td>0.108288746</td>\n",
       "      <td>0.108421755</td>\n",
       "      <td>0.108204979</td>\n",
       "      <td>0.108481125</td>\n",
       "      <td>0.000280063</td>\n",
       "    </tr>\n",
       "    <tr>\n",
       "      <th>1</th>\n",
       "      <td>321.331032</td>\n",
       "      <td>5.085320582</td>\n",
       "      <td>9.387311363</td>\n",
       "      <td>0.720473718</td>\n",
       "      <td>18</td>\n",
       "      <td>0.15</td>\n",
       "      <td>130</td>\n",
       "      <td>{'max_depth': 18, 'max_features': 0.15, 'n_est...</td>\n",
       "      <td>0.12472514</td>\n",
       "      <td>0.125726524</td>\n",
       "      <td>...</td>\n",
       "      <td>0.108596825</td>\n",
       "      <td>0.10869643</td>\n",
       "      <td>0.10780863</td>\n",
       "      <td>0.108727162</td>\n",
       "      <td>0.108297842</td>\n",
       "      <td>0.108316425</td>\n",
       "      <td>0.108303729</td>\n",
       "      <td>0.108023851</td>\n",
       "      <td>0.10837888</td>\n",
       "      <td>0.000286277</td>\n",
       "    </tr>\n",
       "    <tr>\n",
       "      <th>2</th>\n",
       "      <td>343.8468857</td>\n",
       "      <td>6.116478305</td>\n",
       "      <td>11.39310119</td>\n",
       "      <td>1.471312733</td>\n",
       "      <td>18</td>\n",
       "      <td>0.15</td>\n",
       "      <td>135</td>\n",
       "      <td>{'max_depth': 18, 'max_features': 0.15, 'n_est...</td>\n",
       "      <td>0.124618411</td>\n",
       "      <td>0.125687603</td>\n",
       "      <td>...</td>\n",
       "      <td>0.108505178</td>\n",
       "      <td>0.108608271</td>\n",
       "      <td>0.107763474</td>\n",
       "      <td>0.108673333</td>\n",
       "      <td>0.108220368</td>\n",
       "      <td>0.108316417</td>\n",
       "      <td>0.108231927</td>\n",
       "      <td>0.108022651</td>\n",
       "      <td>0.108314396</td>\n",
       "      <td>0.000263431</td>\n",
       "    </tr>\n",
       "    <tr>\n",
       "      <th>3</th>\n",
       "      <td>364.2421949</td>\n",
       "      <td>4.415601637</td>\n",
       "      <td>13.08148572</td>\n",
       "      <td>1.095307742</td>\n",
       "      <td>18</td>\n",
       "      <td>0.15</td>\n",
       "      <td>140</td>\n",
       "      <td>{'max_depth': 18, 'max_features': 0.15, 'n_est...</td>\n",
       "      <td>0.124562813</td>\n",
       "      <td>0.125570846</td>\n",
       "      <td>...</td>\n",
       "      <td>0.108485938</td>\n",
       "      <td>0.108613798</td>\n",
       "      <td>0.107634631</td>\n",
       "      <td>0.108672174</td>\n",
       "      <td>0.108191024</td>\n",
       "      <td>0.108309458</td>\n",
       "      <td>0.108221269</td>\n",
       "      <td>0.108072637</td>\n",
       "      <td>0.10828483</td>\n",
       "      <td>0.000286652</td>\n",
       "    </tr>\n",
       "    <tr>\n",
       "      <th>4</th>\n",
       "      <td>388.7014971</td>\n",
       "      <td>7.345377781</td>\n",
       "      <td>14.90018544</td>\n",
       "      <td>1.4808142</td>\n",
       "      <td>18</td>\n",
       "      <td>0.15</td>\n",
       "      <td>145</td>\n",
       "      <td>{'max_depth': 18, 'max_features': 0.15, 'n_est...</td>\n",
       "      <td>0.124545357</td>\n",
       "      <td>0.125675886</td>\n",
       "      <td>...</td>\n",
       "      <td>0.108452339</td>\n",
       "      <td>0.108678094</td>\n",
       "      <td>0.107691948</td>\n",
       "      <td>0.108760111</td>\n",
       "      <td>0.108210385</td>\n",
       "      <td>0.108353146</td>\n",
       "      <td>0.108364353</td>\n",
       "      <td>0.108080393</td>\n",
       "      <td>0.108327378</td>\n",
       "      <td>0.000285177</td>\n",
       "    </tr>\n",
       "  </tbody>\n",
       "</table>\n",
       "<p>5 rows × 33 columns</p>\n",
       "</div>"
      ],
      "text/plain": [
       "content mean_fit_time std_fit_time mean_score_time std_score_time  \\\n",
       "0         309.6326595  3.914691428     8.504561472     1.07375785   \n",
       "1          321.331032  5.085320582     9.387311363    0.720473718   \n",
       "2         343.8468857  6.116478305     11.39310119    1.471312733   \n",
       "3         364.2421949  4.415601637     13.08148572    1.095307742   \n",
       "4         388.7014971  7.345377781     14.90018544      1.4808142   \n",
       "\n",
       "content param_max_depth param_max_features param_n_estimators  \\\n",
       "0                    18               0.15                125   \n",
       "1                    18               0.15                130   \n",
       "2                    18               0.15                135   \n",
       "3                    18               0.15                140   \n",
       "4                    18               0.15                145   \n",
       "\n",
       "content                                             params split0_test_score  \\\n",
       "0        {'max_depth': 18, 'max_features': 0.15, 'n_est...       0.124845375   \n",
       "1        {'max_depth': 18, 'max_features': 0.15, 'n_est...        0.12472514   \n",
       "2        {'max_depth': 18, 'max_features': 0.15, 'n_est...       0.124618411   \n",
       "3        {'max_depth': 18, 'max_features': 0.15, 'n_est...       0.124562813   \n",
       "4        {'max_depth': 18, 'max_features': 0.15, 'n_est...       0.124545357   \n",
       "\n",
       "content split1_test_score       ...       split2_train_score  \\\n",
       "0             0.125739628       ...              0.108687483   \n",
       "1             0.125726524       ...              0.108596825   \n",
       "2             0.125687603       ...              0.108505178   \n",
       "3             0.125570846       ...              0.108485938   \n",
       "4             0.125675886       ...              0.108452339   \n",
       "\n",
       "content split3_train_score split4_train_score split5_train_score  \\\n",
       "0              0.108769263         0.10794622         0.10882983   \n",
       "1               0.10869643         0.10780863        0.108727162   \n",
       "2              0.108608271        0.107763474        0.108673333   \n",
       "3              0.108613798        0.107634631        0.108672174   \n",
       "4              0.108678094        0.107691948        0.108760111   \n",
       "\n",
       "content split6_train_score split7_train_score split8_train_score  \\\n",
       "0              0.108497256        0.108288746        0.108421755   \n",
       "1              0.108297842        0.108316425        0.108303729   \n",
       "2              0.108220368        0.108316417        0.108231927   \n",
       "3              0.108191024        0.108309458        0.108221269   \n",
       "4              0.108210385        0.108353146        0.108364353   \n",
       "\n",
       "content split9_train_score mean_train_score std_train_score  \n",
       "0              0.108204979      0.108481125     0.000280063  \n",
       "1              0.108023851       0.10837888     0.000286277  \n",
       "2              0.108022651      0.108314396     0.000263431  \n",
       "3              0.108072637       0.10828483     0.000286652  \n",
       "4              0.108080393      0.108327378     0.000285177  \n",
       "\n",
       "[5 rows x 33 columns]"
      ]
     },
     "execution_count": 27,
     "metadata": {},
     "output_type": "execute_result"
    }
   ],
   "source": [
    "gridcv_results = pd.read_csv('gcv.csv',index_col=False)\n",
    "gridcv_results = gridcv_results.set_index('content', inplace=False, drop=True).T\n",
    "gridcv_results.head()"
   ]
  },
  {
   "cell_type": "code",
   "execution_count": 65,
   "metadata": {},
   "outputs": [
    {
     "name": "stdout",
     "output_type": "stream",
     "text": [
      "when parameter is : {'max_depth': 18, 'max_features': 0.15, 'n_estimators': 125}\n",
      "got the worst mean test score : 0.125387769\n",
      "when parameter is : {'max_depth': 24, 'max_features': 0.18999999999999997, 'n_estimators': 165}\n",
      "got the best mean test score : 0.106439731\n"
     ]
    }
   ],
   "source": [
    "# 查看最优验证集参数\n",
    "for p,s in zip(gridcv_results.params,gridcv_results.mean_test_score):\n",
    "    if s==min(gridcv_results.mean_test_score):\n",
    "        print('when parameter is :',p)\n",
    "        print('got the best mean test score :',s)\n",
    "    if s==max(gridcv_results.mean_test_score):\n",
    "        print('when parameter is :',p)\n",
    "        print('got the worst mean test score :',s)"
   ]
  },
  {
   "cell_type": "code",
   "execution_count": 64,
   "metadata": {},
   "outputs": [
    {
     "name": "stdout",
     "output_type": "stream",
     "text": [
      "when parameter is : {'max_depth': 18, 'max_features': 0.15, 'n_estimators': 125}\n",
      "got the worst mean train score : 0.108481125\n",
      "when parameter is : {'max_depth': 24, 'max_features': 0.18999999999999997, 'n_estimators': 175}\n",
      "got the best mean train score : 0.057350136\n"
     ]
    }
   ],
   "source": [
    "# 查看最优训练集参数\n",
    "for p,s in zip(gridcv_results.params,gridcv_results.mean_train_score):\n",
    "    if s==min(gridcv_results.mean_train_score):\n",
    "        print('when parameter is :',p)\n",
    "        print('got the best mean train score :',s)\n",
    "    if s==max(gridcv_results.mean_train_score):\n",
    "        print('when parameter is :',p)\n",
    "        print('got the worst mean train score :',s)"
   ]
  },
  {
   "cell_type": "markdown",
   "metadata": {},
   "source": [
    "可以看出，max depth 和 max features 在验证集和训练集上的最优值一致，分别为24 和 0.19。n_estimators的最优质在测试机和训练集上有差异，但是差异不大，以测试集结果为准，取165。"
   ]
  },
  {
   "cell_type": "markdown",
   "metadata": {},
   "source": [
    "### 1.3. Random Forest Final\n",
    "\n",
    "通过1.2章节的尝试，可以基本确定随机森林的模型参数为：\n",
    "\n",
    "- n_estimators:165\n",
    "- max_features:0.19\n",
    "- max_depth:24\n",
    "\n",
    "将本步骤的随机森林回归器命名为 RF_danny， 使用上述三个参数对整个训练集进行训练。"
   ]
  },
  {
   "cell_type": "code",
   "execution_count": 6,
   "metadata": {},
   "outputs": [],
   "source": [
    "RF_danny = RandomForestRegressor(max_depth=24, max_features=0.19, n_estimators=165)\n",
    "RF_danny = RF_danny.fit(X,y)"
   ]
  },
  {
   "cell_type": "markdown",
   "metadata": {},
   "source": [
    "将Danny应用到测试集上，要注意的是，在训练集中我剔除了关门、销售额为0的情况。所以在测试集中，我默认将所有Open=0的样本的销售额判断为0。"
   ]
  },
  {
   "cell_type": "code",
   "execution_count": 11,
   "metadata": {},
   "outputs": [
    {
     "data": {
      "text/plain": [
       "[(0.2445, 'Sales2014'),\n",
       " (0.1812, 'Sales2013'),\n",
       " (0.169, 'Sales2015'),\n",
       " (0.1371, 'Promo'),\n",
       " (0.0686, 'DayOfWeek'),\n",
       " (0.0356, 'DayOfMonth'),\n",
       " (0.0242, 'WeekOfYear'),\n",
       " (0.0156, 'Month'),\n",
       " (0.0155, 'CompetitionDistance'),\n",
       " (0.0153, 'CompetitionTime'),\n",
       " (0.0137, 'Heat2013'),\n",
       " (0.0135, 'Heat2015'),\n",
       " (0.013, 'Heat2014'),\n",
       " (0.0119, 'Promo2Time'),\n",
       " (0.0099, 'Year'),\n",
       " (0.0055, 'is_type_a'),\n",
       " (0.0038, 'is_scale_a'),\n",
       " (0.0036, 'is_scale_c'),\n",
       " (0.0036, 'SchoolHoliday'),\n",
       " (0.0032, 'Promo2'),\n",
       " (0.0025, 'is_type_d'),\n",
       " (0.0024, 'is_type_b'),\n",
       " (0.0019, 'is_type_c'),\n",
       " (0.0014, 'is_promo2_a'),\n",
       " (0.0012, 'is_promo2_c'),\n",
       " (0.001, 'is_promo2_b'),\n",
       " (0.0006, 'is_state_holiday'),\n",
       " (0.0004, 'is_public_holiday'),\n",
       " (0.0003, 'is_scale_b'),\n",
       " (0.0001, 'is_easter'),\n",
       " (0.0, 'is_christmas'),\n",
       " (0.0, 'Open')]"
      ]
     },
     "execution_count": 11,
     "metadata": {},
     "output_type": "execute_result"
    }
   ],
   "source": [
    "# RF_danny.feature_importances_\n",
    "sorted(zip(map(lambda x: round(x, 4), RF_danny.feature_importances_), X.columns.values), reverse=True)"
   ]
  },
  {
   "cell_type": "code",
   "execution_count": null,
   "metadata": {},
   "outputs": [],
   "source": []
  },
  {
   "cell_type": "code",
   "execution_count": 48,
   "metadata": {},
   "outputs": [],
   "source": [
    "# 定义一个函数来使用训练后的模型进行预测并整理结果\n",
    "def pred_n_submit(model,test,submission_name):\n",
    "    # 求出预测值\n",
    "    log_pred = model.predict(test)\n",
    "    pred = []\n",
    "    for i in range(len(log_pred)):\n",
    "        if test.Open.values[i]==0.0:\n",
    "            pred.append(0.0)\n",
    "        else:pred.append(np.e**log_pred[i])\n",
    "    \n",
    "    # 将测试集中所有Open=0的样本判断为0销售额\n",
    "    pred_revised = []\n",
    "    for i in range(len(pred)):\n",
    "        if test.Open.values[i]==0.0:\n",
    "            pred_revised.append(0.0)\n",
    "        else:pred_revised.append(pred[i])\n",
    "    \n",
    "    # 将结果整理为submission格式\n",
    "    id_list = pd.read_csv('data/test.csv').Id.values\n",
    "    submission = pd.DataFrame({'Id':id_list,\n",
    "                              'Sales':pred_revised})\n",
    "    submission.to_csv('submission/{}.csv'.format(submission_name),index=False)\n",
    "\n",
    "RF_alpha = RandomForestRegressor().fit(X,y)\n",
    "RF_beta = RandomForestRegressor(max_depth=22, max_features=0.2, n_estimators=150).fit(X,y)\n",
    "RF_danny = RandomForestRegressor(max_depth=24, max_features=0.19, n_estimators=165).fit(X,y)\n",
    "\n",
    "pred_n_submit(RF_alpha,cesar_test,'RF_alpha_submission')\n",
    "pred_n_submit(RF_beta,cesar_test,'RF_beta_submission')\n",
    "pred_n_submit(RF_danny,cesar_test,'RF_danny_submission')"
   ]
  },
  {
   "cell_type": "markdown",
   "metadata": {},
   "source": [
    "将未经优化过的模型alpha，经过分项优化的模型beta以及使用网格搜索法优化的模型danny分别应用到整个训练集cesar_train上进行训练，并将预测结果整理为submission格式。提交至kaggle后得到的评分如下：\n",
    "\n",
    "|Model|Private score|Public score|\n",
    "|:-|:-|:-|\n",
    "|Alpha|0.13594|0.13022|\n",
    "|Beta|0.12487|0.11205|\n",
    "|Danny|0.12421|0.11103|"
   ]
  },
  {
   "cell_type": "code",
   "execution_count": 27,
   "metadata": {},
   "outputs": [
    {
     "data": {
      "text/plain": [
       "Text(0,0.5,'RMSPE score')"
      ]
     },
     "execution_count": 27,
     "metadata": {},
     "output_type": "execute_result"
    },
    {
     "data": {
      "image/png": "[encoded data removed]",
      "text/plain": [
       "<Figure size 432x288 with 1 Axes>"
      ]
     },
     "metadata": {},
     "output_type": "display_data"
    }
   ],
   "source": [
    "import matplotlib.pyplot as plt\n",
    "\n",
    "models = ['Alpha','Beta','Danny']\n",
    "private_score = [0.13594,0.12487,0.12421]\n",
    "public_score = [0.13022,0.11205,0.11103]\n",
    "\n",
    "fig,ax = plt.subplots()\n",
    "ax.plot([1,2,3],private_score,'-r',label='Private score')\n",
    "ax.plot([1,2,3],public_score,'-b',label='Public score')\n",
    "ax.legend()\n",
    "plt.xticks([1,2,3],models)\n",
    "ax.set_ylabel('RMSPE score')"
   ]
  },
  {
   "cell_type": "markdown",
   "metadata": {},
   "source": [
    "## 2. XGBoost"
   ]
  },
  {
   "cell_type": "code",
   "execution_count": 8,
   "metadata": {},
   "outputs": [],
   "source": [
    "# 引入必要的库\n",
    "import numpy as np\n",
    "import matplotlib.pyplot as plt\n",
    "import xgboost as xgb\n",
    "import pandas as pd\n",
    "from sklearn.model_selection import train_test_split, cross_val_score, KFold\n",
    "\n",
    "import time"
   ]
  },
  {
   "cell_type": "code",
   "execution_count": 9,
   "metadata": {},
   "outputs": [],
   "source": [
    "# 将测试集中所有Open=0的样本判断为0销售额\n",
    "# 将取对数的sales值还原\n",
    "\n",
    "# 定义一个函数来使用训练后的模型进行预测并整理结果\n",
    "def submit_xgb(model,cesar_test,name):\n",
    "    test = xgb.DMatrix(cesar_test)\n",
    "    pred = model.predict(test)\n",
    "    pred_revised = []\n",
    "    for i in range(len(pred)):\n",
    "        if cesar_test.Open.values[i]==0.0:\n",
    "            pred_revised.append(0.0)\n",
    "        else:pred_revised.append(np.e**pred[i])\n",
    "\n",
    "    # 将结果整理为submission格式\n",
    "    id_list = pd.read_csv('data/test.csv').Id.values\n",
    "    submission = pd.DataFrame({'Id':id_list,\n",
    "                              'Sales':pred_revised})\n",
    "    submission.to_csv('submission/{}.csv'.format(name),index=False)"
   ]
  },
  {
   "cell_type": "code",
   "execution_count": 10,
   "metadata": {},
   "outputs": [],
   "source": [
    "# thanks to https://www.kaggle.com/qmaruf/xgboost-in-python-with-rmspe\n",
    "# 定义评分标准函数\n",
    "def ToWeight(y):\n",
    "    w = np.zeros(y.shape, dtype=float)\n",
    "    ind = y != 0\n",
    "    w[ind] = 1./(y[ind]**2)\n",
    "    return w\n",
    "\n",
    "def rmspe_xg(yhat, y):\n",
    "    # y = y.values\n",
    "    y = y.get_label()\n",
    "    y = np.exp(y) - 1\n",
    "    yhat = np.exp(yhat) - 1\n",
    "    w = ToWeight(y)\n",
    "    rmspe = np.sqrt(np.mean(w * (y - yhat)**2))\n",
    "    return \"rmspe\", rmspe"
   ]
  },
  {
   "cell_type": "code",
   "execution_count": 11,
   "metadata": {},
   "outputs": [],
   "source": [
    "# 读入数据并进行训练验证划分\n",
    "cesar_train = pd.read_csv('data/cesar_train.csv',index_col=False)\n",
    "cesar_test = pd.read_csv('data/cesar_test.csv',index_col=False)\n",
    "cesar_xgb_test = xgb.DMatrix(cesar_test)\n",
    "X = cesar_train.drop(['Sales'],axis=1)\n",
    "y = cesar_train.Sales\n",
    "\n",
    "X_train, X_test, y_train, y_test = train_test_split(X, y, test_size=0.01, random_state=42)\n",
    "dtrain = xgb.DMatrix(X_train,y_train)\n",
    "dtest = xgb.DMatrix(X_test,y_test)"
   ]
  },
  {
   "cell_type": "markdown",
   "metadata": {},
   "source": [
    "### 2.1. Aaron\n",
    "\n",
    "建立简单的xgboost模型对数据进行试算"
   ]
  },
  {
   "cell_type": "code",
   "execution_count": 59,
   "metadata": {},
   "outputs": [
    {
     "name": "stdout",
     "output_type": "stream",
     "text": [
      "[0]\teval-rmse:7.43262\ttrain-rmse:7.43048\teval-rmspe:0.999527\ttrain-rmspe:0.999527\n",
      "[1000]\teval-rmse:0.100679\ttrain-rmse:0.09739\teval-rmspe:0.11652\ttrain-rmspe:0.157209\n",
      "[2000]\teval-rmse:0.09237\ttrain-rmse:0.087568\teval-rmspe:0.107627\ttrain-rmspe:0.131082\n",
      "[3000]\teval-rmse:0.08925\ttrain-rmse:0.082716\teval-rmspe:0.104339\ttrain-rmspe:0.113359\n",
      "[4000]\teval-rmse:0.087688\ttrain-rmse:0.07955\teval-rmspe:0.103056\ttrain-rmspe:0.106788\n",
      "[5000]\teval-rmse:0.08686\ttrain-rmse:0.077215\teval-rmspe:0.10241\ttrain-rmspe:0.101609\n",
      "[6000]\teval-rmse:0.086179\ttrain-rmse:0.075261\teval-rmspe:0.101921\ttrain-rmspe:0.094966\n",
      "[7000]\teval-rmse:0.085695\ttrain-rmse:0.073602\teval-rmspe:0.101498\ttrain-rmspe:0.090837\n",
      "[8000]\teval-rmse:0.085474\ttrain-rmse:0.07217\teval-rmspe:0.101388\ttrain-rmspe:0.086459\n",
      "[9000]\teval-rmse:0.085153\ttrain-rmse:0.0709\teval-rmspe:0.100966\ttrain-rmspe:0.084503\n",
      "[9999]\teval-rmse:0.084938\ttrain-rmse:0.069734\teval-rmspe:0.100759\ttrain-rmspe:0.082399\n",
      "13.379349267482757 minutes\n"
     ]
    }
   ],
   "source": [
    "# 建立简单参数的xgboost模型\n",
    "\n",
    "param_aaron = {'objective':'reg:linear',\n",
    "               'eta':0.1,\n",
    "               'booster':'gbtree',\n",
    "               'predictor':'gpu_predictor',\n",
    "               'tree_method':'gpu_hist',\n",
    "              }\n",
    "\n",
    "rounds = 10000\n",
    "watchlist = [(dtest, 'eval'), (dtrain, 'train')]\n",
    "\n",
    "time1 = time.time()\n",
    "bst_aaron = xgb.train(param_aaron,dtrain,rounds,watchlist,verbose_eval=int(rounds/10),feval=rmspe_xg)\n",
    "print((time.time()-time1)/60,'minutes')\n",
    "\n",
    "submit_xgb(bst_aaron,cesar_test,'xgb_arron_submission')"
   ]
  },
  {
   "cell_type": "markdown",
   "metadata": {},
   "source": [
    "### 2.2. Blake\n",
    "增加一些参数，使模型的保守性增强"
   ]
  },
  {
   "cell_type": "code",
   "execution_count": 33,
   "metadata": {},
   "outputs": [
    {
     "name": "stdout",
     "output_type": "stream",
     "text": [
      "[0]\teval-rmse:7.4327\ttrain-rmse:7.43052\teval-rmspe:0.999527\ttrain-rmspe:0.999527\n",
      "[1000]\teval-rmse:0.102368\ttrain-rmse:0.099792\teval-rmspe:0.117817\ttrain-rmspe:0.173777\n",
      "[2000]\teval-rmse:0.095118\ttrain-rmse:0.091635\teval-rmspe:0.11038\ttrain-rmspe:0.166032\n",
      "[3000]\teval-rmse:0.092046\ttrain-rmse:0.087643\teval-rmspe:0.107291\ttrain-rmspe:0.160246\n",
      "[4000]\teval-rmse:0.090424\ttrain-rmse:0.085174\teval-rmspe:0.105745\ttrain-rmspe:0.155819\n",
      "[5000]\teval-rmse:0.089321\ttrain-rmse:0.08343\teval-rmspe:0.104633\ttrain-rmspe:0.151656\n",
      "[6000]\teval-rmse:0.08859\ttrain-rmse:0.082061\teval-rmspe:0.1042\ttrain-rmspe:0.147569\n",
      "[7000]\teval-rmse:0.088017\ttrain-rmse:0.080924\teval-rmspe:0.103526\ttrain-rmspe:0.143914\n",
      "[8000]\teval-rmse:0.087595\ttrain-rmse:0.079977\teval-rmspe:0.103209\ttrain-rmspe:0.140728\n",
      "[9000]\teval-rmse:0.087294\ttrain-rmse:0.079167\teval-rmspe:0.103003\ttrain-rmspe:0.137251\n",
      "[9999]\teval-rmse:0.087003\ttrain-rmse:0.078453\teval-rmspe:0.102778\ttrain-rmspe:0.134474\n",
      "13.950365591049195 minutes\n"
     ]
    }
   ],
   "source": [
    "param_blake = {'objective':'reg:linear',\n",
    "               'eta':0.1,\n",
    "               'booster':'gbtree',\n",
    "               'predictor':'gpu_predictor',\n",
    "               'tree_method':'gpu_hist',\n",
    "               'alpha':2,\n",
    "               'subsample':0.8,\n",
    "               'gama':2,\n",
    "               'min_child_weight':50\n",
    "              }\n",
    "\n",
    "time1 = time.time()\n",
    "bst_blake = xgb.train(param_blake,dtrain,rounds,watchlist,verbose_eval=int(rounds/10),feval=rmspe_xg)\n",
    "print((time.time()-time1)/60,'minutes')\n",
    "\n",
    "submit_xgb(bst_blake,cesar_test,'xgb_blake_submission')"
   ]
  },
  {
   "cell_type": "markdown",
   "metadata": {},
   "source": [
    "### 2.3. Further Blake\n",
    "对max_depth参数进行调优，观察其对结果的影响以及计算过程中模型评分随着计算步骤增加的演变过程。\n",
    "\n",
    "模型参数以blake为基准但是将max_depth值从4~8进行调整。"
   ]
  },
  {
   "cell_type": "code",
   "execution_count": 53,
   "metadata": {},
   "outputs": [],
   "source": [
    "max_depth_params_1 = [\n",
    "    {'objective': 'reg:linear', 'eta': 0.1, 'booster': 'gbtree', 'predictor': 'gpu_predictor', 'tree_method': 'gpu_hist', 'alpha': 2, 'subsample': 0.8, 'gama': 2, 'min_child_weight': 50, 'max_depth': 4},\n",
    "{'objective': 'reg:linear', 'eta': 0.1, 'booster': 'gbtree', 'predictor': 'gpu_predictor', 'tree_method': 'gpu_hist', 'alpha': 2, 'subsample': 0.8, 'gama': 2, 'min_child_weight': 50, 'max_depth': 5},\n",
    "{'objective': 'reg:linear', 'eta': 0.1, 'booster': 'gbtree', 'predictor': 'gpu_predictor', 'tree_method': 'gpu_hist', 'alpha': 2, 'subsample': 0.8, 'gama': 2, 'min_child_weight': 50, 'max_depth': 6},\n",
    "{'objective': 'reg:linear', 'eta': 0.1, 'booster': 'gbtree', 'predictor': 'gpu_predictor', 'tree_method': 'gpu_hist', 'alpha': 2, 'subsample': 0.8, 'gama': 2, 'min_child_weight': 50, 'max_depth': 7},\n",
    "{'objective': 'reg:linear', 'eta': 0.1, 'booster': 'gbtree', 'predictor': 'gpu_predictor', 'tree_method': 'gpu_hist', 'alpha': 2, 'subsample': 0.8, 'gama': 2, 'min_child_weight': 50, 'max_depth': 8}\n",
    "]\n",
    "\n",
    "# for max_depth,params in zip([4,5,6,7,8],temp):\n",
    "#     params['max_depth']=max_depth\n",
    "#     print(params)\n",
    "#     max_depth_params_1.append(params)"
   ]
  },
  {
   "cell_type": "code",
   "execution_count": 57,
   "metadata": {},
   "outputs": [
    {
     "name": "stdout",
     "output_type": "stream",
     "text": [
      "[0]\teval-rmse:7.4328\ttrain-rmse:7.43057\teval-rmspe:0.999527\ttrain-rmspe:0.999527\n",
      "[1000]\teval-rmse:0.125611\ttrain-rmse:0.124154\teval-rmspe:0.142791\ttrain-rmspe:0.194472\n",
      "[2000]\teval-rmse:0.114204\ttrain-rmse:0.112591\teval-rmspe:0.13005\ttrain-rmspe:0.185434\n",
      "[3000]\teval-rmse:0.108568\ttrain-rmse:0.106703\teval-rmspe:0.123943\ttrain-rmspe:0.181137\n",
      "[4000]\teval-rmse:0.104995\ttrain-rmse:0.102969\teval-rmspe:0.120316\ttrain-rmspe:0.179232\n",
      "[5000]\teval-rmse:0.102366\ttrain-rmse:0.100324\teval-rmspe:0.117662\ttrain-rmspe:0.177676\n",
      "[6000]\teval-rmse:0.100489\ttrain-rmse:0.09832\teval-rmspe:0.11561\ttrain-rmspe:0.17574\n",
      "[7000]\teval-rmse:0.099042\ttrain-rmse:0.096744\teval-rmspe:0.114191\ttrain-rmspe:0.174297\n",
      "[8000]\teval-rmse:0.097997\ttrain-rmse:0.095508\teval-rmspe:0.113206\ttrain-rmspe:0.172605\n",
      "[9000]\teval-rmse:0.097134\ttrain-rmse:0.09447\teval-rmspe:0.112296\ttrain-rmspe:0.170973\n",
      "[9999]\teval-rmse:0.096438\ttrain-rmse:0.093561\teval-rmspe:0.111682\ttrain-rmspe:0.170311\n",
      "[0]\teval-rmse:7.43269\ttrain-rmse:7.43053\teval-rmspe:0.999527\ttrain-rmspe:0.999527\n",
      "[1000]\teval-rmse:0.111866\ttrain-rmse:0.110182\teval-rmspe:0.128095\ttrain-rmspe:0.185081\n",
      "[2000]\teval-rmse:0.101698\ttrain-rmse:0.099889\teval-rmspe:0.117551\ttrain-rmspe:0.177292\n",
      "[3000]\teval-rmse:0.097467\ttrain-rmse:0.09521\teval-rmspe:0.112835\ttrain-rmspe:0.173692\n",
      "[4000]\teval-rmse:0.095098\ttrain-rmse:0.092369\teval-rmspe:0.110372\ttrain-rmspe:0.170196\n",
      "[5000]\teval-rmse:0.093391\ttrain-rmse:0.090298\teval-rmspe:0.108483\ttrain-rmspe:0.167605\n",
      "[6000]\teval-rmse:0.092191\ttrain-rmse:0.088724\teval-rmspe:0.107227\ttrain-rmspe:0.165747\n",
      "[7000]\teval-rmse:0.091345\ttrain-rmse:0.087513\teval-rmspe:0.10651\ttrain-rmspe:0.163303\n",
      "[8000]\teval-rmse:0.090717\ttrain-rmse:0.086511\teval-rmspe:0.105934\ttrain-rmspe:0.160537\n",
      "[9000]\teval-rmse:0.090128\ttrain-rmse:0.085612\teval-rmspe:0.105374\ttrain-rmspe:0.158829\n",
      "[9999]\teval-rmse:0.089684\ttrain-rmse:0.084884\teval-rmspe:0.105121\ttrain-rmspe:0.157656\n",
      "[0]\teval-rmse:7.4327\ttrain-rmse:7.43052\teval-rmspe:0.999527\ttrain-rmspe:0.999527\n",
      "[1000]\teval-rmse:0.102072\ttrain-rmse:0.099797\teval-rmspe:0.11745\ttrain-rmspe:0.174076\n",
      "[2000]\teval-rmse:0.094685\ttrain-rmse:0.091358\teval-rmspe:0.109769\ttrain-rmspe:0.166076\n",
      "[3000]\teval-rmse:0.091718\ttrain-rmse:0.087575\teval-rmspe:0.106909\ttrain-rmspe:0.161592\n",
      "[4000]\teval-rmse:0.090078\ttrain-rmse:0.085126\teval-rmspe:0.10524\ttrain-rmspe:0.156855\n",
      "[5000]\teval-rmse:0.089056\ttrain-rmse:0.083404\teval-rmspe:0.104176\ttrain-rmspe:0.152638\n",
      "[6000]\teval-rmse:0.088268\ttrain-rmse:0.082007\teval-rmspe:0.103481\ttrain-rmspe:0.148052\n",
      "[7000]\teval-rmse:0.087713\ttrain-rmse:0.080913\teval-rmspe:0.102979\ttrain-rmspe:0.143786\n",
      "[8000]\teval-rmse:0.087314\ttrain-rmse:0.079992\teval-rmspe:0.102784\ttrain-rmspe:0.141662\n",
      "[9000]\teval-rmse:0.086984\ttrain-rmse:0.079179\teval-rmspe:0.102599\ttrain-rmspe:0.138643\n",
      "[9999]\teval-rmse:0.086669\ttrain-rmse:0.078457\teval-rmspe:0.102344\ttrain-rmspe:0.135865\n",
      "[0]\teval-rmse:7.43276\ttrain-rmse:7.43052\teval-rmspe:0.999527\ttrain-rmspe:0.999527\n",
      "[1000]\teval-rmse:0.095568\ttrain-rmse:0.092447\teval-rmspe:0.110709\ttrain-rmspe:0.171532\n",
      "[2000]\teval-rmse:0.090289\ttrain-rmse:0.085497\teval-rmspe:0.105673\ttrain-rmspe:0.15841\n",
      "[3000]\teval-rmse:0.088278\ttrain-rmse:0.082059\teval-rmspe:0.104067\ttrain-rmspe:0.149674\n",
      "[4000]\teval-rmse:0.087168\ttrain-rmse:0.079767\teval-rmspe:0.103087\ttrain-rmspe:0.14038\n",
      "[5000]\teval-rmse:0.086436\ttrain-rmse:0.07802\teval-rmspe:0.102361\ttrain-rmspe:0.134576\n",
      "[6000]\teval-rmse:0.085986\ttrain-rmse:0.076683\teval-rmspe:0.101892\ttrain-rmspe:0.128973\n",
      "[7000]\teval-rmse:0.085678\ttrain-rmse:0.075551\teval-rmspe:0.101438\ttrain-rmspe:0.124304\n",
      "[8000]\teval-rmse:0.085489\ttrain-rmse:0.074593\teval-rmspe:0.10134\ttrain-rmspe:0.119962\n",
      "[9000]\teval-rmse:0.08531\ttrain-rmse:0.073748\teval-rmspe:0.101508\ttrain-rmspe:0.115796\n",
      "[9999]\teval-rmse:0.085232\ttrain-rmse:0.073007\teval-rmspe:0.101419\ttrain-rmspe:0.11265\n",
      "[0]\teval-rmse:7.43277\ttrain-rmse:7.43052\teval-rmspe:0.999527\ttrain-rmspe:0.999528\n",
      "[1000]\teval-rmse:0.09098\ttrain-rmse:0.087005\teval-rmspe:0.105707\ttrain-rmspe:0.155701\n",
      "[2000]\teval-rmse:0.087283\ttrain-rmse:0.080688\teval-rmspe:0.10285\ttrain-rmspe:0.14001\n",
      "[3000]\teval-rmse:0.085975\ttrain-rmse:0.077363\teval-rmspe:0.102085\ttrain-rmspe:0.12716\n",
      "[4000]\teval-rmse:0.085269\ttrain-rmse:0.075031\teval-rmspe:0.101411\ttrain-rmspe:0.117625\n",
      "[5000]\teval-rmse:0.084882\ttrain-rmse:0.073283\teval-rmspe:0.101205\ttrain-rmspe:0.110258\n",
      "[6000]\teval-rmse:0.084634\ttrain-rmse:0.071883\teval-rmspe:0.100991\ttrain-rmspe:0.1055\n",
      "[7000]\teval-rmse:0.084461\ttrain-rmse:0.070705\teval-rmspe:0.100812\ttrain-rmspe:0.10074\n",
      "[8000]\teval-rmse:0.084309\ttrain-rmse:0.069707\teval-rmspe:0.100631\ttrain-rmspe:0.096934\n",
      "[9000]\teval-rmse:0.084241\ttrain-rmse:0.068832\teval-rmspe:0.100652\ttrain-rmspe:0.094185\n",
      "[9999]\teval-rmse:0.084109\ttrain-rmse:0.068041\teval-rmspe:0.100333\ttrain-rmspe:0.091798\n"
     ]
    },
    {
     "ename": "NameError",
     "evalue": "name 'model_1' is not defined",
     "output_type": "error",
     "traceback": [
      "\u001b[1;31m---------------------------------------------------------------------------\u001b[0m",
      "\u001b[1;31mNameError\u001b[0m                                 Traceback (most recent call last)",
      "\u001b[1;32m<ipython-input-57-897953a1a0f8>\u001b[0m in \u001b[0;36m<module>\u001b[1;34m()\u001b[0m\n\u001b[0;32m      1\u001b[0m \u001b[0mmodels_1\u001b[0m \u001b[1;33m=\u001b[0m \u001b[1;33m[\u001b[0m\u001b[0mxgb\u001b[0m\u001b[1;33m.\u001b[0m\u001b[0mtrain\u001b[0m\u001b[1;33m(\u001b[0m\u001b[0mparam\u001b[0m\u001b[1;33m,\u001b[0m\u001b[0mdtrain\u001b[0m\u001b[1;33m,\u001b[0m\u001b[0mrounds\u001b[0m\u001b[1;33m,\u001b[0m\u001b[0mwatchlist\u001b[0m\u001b[1;33m,\u001b[0m\u001b[0mverbose_eval\u001b[0m\u001b[1;33m=\u001b[0m\u001b[0mint\u001b[0m\u001b[1;33m(\u001b[0m\u001b[0mrounds\u001b[0m\u001b[1;33m/\u001b[0m\u001b[1;36m10\u001b[0m\u001b[1;33m)\u001b[0m\u001b[1;33m,\u001b[0m\u001b[0mfeval\u001b[0m\u001b[1;33m=\u001b[0m\u001b[0mrmspe_xg\u001b[0m\u001b[1;33m)\u001b[0m \u001b[1;32mfor\u001b[0m \u001b[0mparam\u001b[0m \u001b[1;32min\u001b[0m \u001b[0mmax_depth_params_1\u001b[0m\u001b[1;33m]\u001b[0m\u001b[1;33m\u001b[0m\u001b[0m\n\u001b[0;32m      2\u001b[0m \u001b[1;33m\u001b[0m\u001b[0m\n\u001b[1;32m----> 3\u001b[1;33m \u001b[1;32mfor\u001b[0m \u001b[0mmodel\u001b[0m\u001b[1;33m,\u001b[0m\u001b[0mmax_depth\u001b[0m \u001b[1;32min\u001b[0m \u001b[0mzip\u001b[0m\u001b[1;33m(\u001b[0m\u001b[0mmodel_1\u001b[0m\u001b[1;33m,\u001b[0m\u001b[1;33m[\u001b[0m\u001b[1;36m4\u001b[0m\u001b[1;33m,\u001b[0m\u001b[1;36m5\u001b[0m\u001b[1;33m,\u001b[0m\u001b[1;36m6\u001b[0m\u001b[1;33m,\u001b[0m\u001b[1;36m7\u001b[0m\u001b[1;33m,\u001b[0m\u001b[1;36m8\u001b[0m\u001b[1;33m]\u001b[0m\u001b[1;33m)\u001b[0m\u001b[1;33m:\u001b[0m\u001b[1;33m\u001b[0m\u001b[0m\n\u001b[0m\u001b[0;32m      4\u001b[0m     \u001b[0msub_name\u001b[0m \u001b[1;33m=\u001b[0m \u001b[1;34m'blake_max_depth={}'\u001b[0m\u001b[1;33m.\u001b[0m\u001b[0mformat\u001b[0m\u001b[1;33m(\u001b[0m\u001b[0mmax_depth\u001b[0m\u001b[1;33m)\u001b[0m\u001b[1;33m\u001b[0m\u001b[0m\n\u001b[0;32m      5\u001b[0m     \u001b[0msubmit_xgb\u001b[0m\u001b[1;33m(\u001b[0m\u001b[0mmodel\u001b[0m\u001b[1;33m,\u001b[0m\u001b[0mcesar_test\u001b[0m\u001b[1;33m,\u001b[0m\u001b[0msub_name\u001b[0m\u001b[1;33m)\u001b[0m\u001b[1;33m\u001b[0m\u001b[0m\n",
      "\u001b[1;31mNameError\u001b[0m: name 'model_1' is not defined"
     ]
    }
   ],
   "source": [
    "models_1 = [xgb.train(param,dtrain,rounds,watchlist,verbose_eval=int(rounds/10),feval=rmspe_xg) for param in max_depth_params_1]"
   ]
  },
  {
   "cell_type": "code",
   "execution_count": 58,
   "metadata": {},
   "outputs": [],
   "source": [
    "for model,max_depth in zip(models_1,[4,5,6,7,8]): \n",
    "    sub_name = 'blake_max_depth={}'.format(max_depth)\n",
    "    submit_xgb(model,cesar_test,sub_name)"
   ]
  },
  {
   "cell_type": "markdown",
   "metadata": {},
   "source": [
    "增加三组模型，将max_depth的调整范围扩大至4~11。"
   ]
  },
  {
   "cell_type": "code",
   "execution_count": 60,
   "metadata": {},
   "outputs": [
    {
     "name": "stdout",
     "output_type": "stream",
     "text": [
      "[0]\teval-rmse:7.43277\ttrain-rmse:7.43052\teval-rmspe:0.999527\ttrain-rmspe:0.999528\n",
      "[1000]\teval-rmse:0.089091\ttrain-rmse:0.082799\teval-rmspe:0.105209\ttrain-rmspe:0.148787\n",
      "[2000]\teval-rmse:0.086123\ttrain-rmse:0.076599\teval-rmspe:0.102292\ttrain-rmspe:0.127102\n",
      "[3000]\teval-rmse:0.085121\ttrain-rmse:0.073222\teval-rmspe:0.10069\ttrain-rmspe:0.112555\n",
      "[4000]\teval-rmse:0.084712\ttrain-rmse:0.070845\teval-rmspe:0.100665\ttrain-rmspe:0.102774\n",
      "[5000]\teval-rmse:0.084516\ttrain-rmse:0.069028\teval-rmspe:0.100647\ttrain-rmspe:0.096115\n",
      "[6000]\teval-rmse:0.084416\ttrain-rmse:0.067585\teval-rmspe:0.100287\ttrain-rmspe:0.089798\n",
      "[7000]\teval-rmse:0.084431\ttrain-rmse:0.066355\teval-rmspe:0.100442\ttrain-rmspe:0.085894\n",
      "[8000]\teval-rmse:0.084379\ttrain-rmse:0.065317\teval-rmspe:0.100277\ttrain-rmspe:0.08299\n",
      "[9000]\teval-rmse:0.084324\ttrain-rmse:0.064405\teval-rmspe:0.100075\ttrain-rmspe:0.08041\n",
      "[9999]\teval-rmse:0.084299\ttrain-rmse:0.063572\teval-rmspe:0.100081\ttrain-rmspe:0.077948\n",
      "[0]\teval-rmse:7.43277\ttrain-rmse:7.43052\teval-rmspe:0.999527\ttrain-rmspe:0.999528\n",
      "[1000]\teval-rmse:0.08717\ttrain-rmse:0.079223\teval-rmspe:0.102542\ttrain-rmspe:0.136314\n",
      "[2000]\teval-rmse:0.08498\ttrain-rmse:0.07296\teval-rmspe:0.100407\ttrain-rmspe:0.111786\n",
      "[3000]\teval-rmse:0.084369\ttrain-rmse:0.069548\teval-rmspe:0.099789\ttrain-rmspe:0.097796\n",
      "[4000]\teval-rmse:0.084159\ttrain-rmse:0.067133\teval-rmspe:0.099491\ttrain-rmspe:0.089383\n",
      "[5000]\teval-rmse:0.084038\ttrain-rmse:0.065241\teval-rmspe:0.099367\ttrain-rmspe:0.083128\n",
      "[6000]\teval-rmse:0.084104\ttrain-rmse:0.063731\teval-rmspe:0.099478\ttrain-rmspe:0.078595\n",
      "[7000]\teval-rmse:0.084126\ttrain-rmse:0.062455\teval-rmspe:0.099301\ttrain-rmspe:0.075421\n",
      "[8000]\teval-rmse:0.084213\ttrain-rmse:0.06133\teval-rmspe:0.099306\ttrain-rmspe:0.072453\n",
      "[9000]\teval-rmse:0.084308\ttrain-rmse:0.060376\teval-rmspe:0.099304\ttrain-rmspe:0.070329\n",
      "[9999]\teval-rmse:0.084337\ttrain-rmse:0.059518\teval-rmspe:0.099161\ttrain-rmspe:0.068574\n",
      "[0]\teval-rmse:7.43277\ttrain-rmse:7.43052\teval-rmspe:0.999527\ttrain-rmspe:0.999528\n",
      "[1000]\teval-rmse:0.085976\ttrain-rmse:0.075877\teval-rmspe:0.101341\ttrain-rmspe:0.125671\n",
      "[2000]\teval-rmse:0.084453\ttrain-rmse:0.069613\teval-rmspe:0.100175\ttrain-rmspe:0.098486\n",
      "[3000]\teval-rmse:0.084146\ttrain-rmse:0.066046\teval-rmspe:0.099443\ttrain-rmspe:0.085097\n",
      "[4000]\teval-rmse:0.08414\ttrain-rmse:0.063588\teval-rmspe:0.099571\ttrain-rmspe:0.078402\n",
      "[5000]\teval-rmse:0.084179\ttrain-rmse:0.061715\teval-rmspe:0.099274\ttrain-rmspe:0.073419\n",
      "[6000]\teval-rmse:0.084311\ttrain-rmse:0.060205\teval-rmspe:0.099567\ttrain-rmspe:0.07009\n",
      "[7000]\teval-rmse:0.084411\ttrain-rmse:0.058938\teval-rmspe:0.099655\ttrain-rmspe:0.067388\n",
      "[8000]\teval-rmse:0.084498\ttrain-rmse:0.057856\teval-rmspe:0.099781\ttrain-rmspe:0.065292\n",
      "[9000]\teval-rmse:0.084599\ttrain-rmse:0.056917\teval-rmspe:0.099753\ttrain-rmspe:0.063737\n",
      "[9999]\teval-rmse:0.084709\ttrain-rmse:0.056068\teval-rmspe:0.099799\ttrain-rmspe:0.062207\n"
     ]
    }
   ],
   "source": [
    "max_depth_params_2 = [\n",
    "    {'objective': 'reg:linear', 'eta': 0.1, 'booster': 'gbtree', 'predictor': 'gpu_predictor', 'tree_method': 'gpu_hist', 'alpha': 2, 'subsample': 0.8, 'gama': 2, 'min_child_weight': 50, 'max_depth': 9},\n",
    "{'objective': 'reg:linear', 'eta': 0.1, 'booster': 'gbtree', 'predictor': 'gpu_predictor', 'tree_method': 'gpu_hist', 'alpha': 2, 'subsample': 0.8, 'gama': 2, 'min_child_weight': 50, 'max_depth': 10},\n",
    "{'objective': 'reg:linear', 'eta': 0.1, 'booster': 'gbtree', 'predictor': 'gpu_predictor', 'tree_method': 'gpu_hist', 'alpha': 2, 'subsample': 0.8, 'gama': 2, 'min_child_weight': 50, 'max_depth': 11}\n",
    "]\n",
    "\n",
    "models_2 = [xgb.train(param,dtrain,rounds,watchlist,verbose_eval=int(rounds/10),feval=rmspe_xg) for param in max_depth_params_2]\n",
    "\n",
    "for model,max_depth in zip(models_2,[9,10,11]): \n",
    "    sub_name = 'blake_max_depth={}'.format(max_depth)\n",
    "    submit_xgb(model,cesar_test,sub_name)"
   ]
  },
  {
   "cell_type": "code",
   "execution_count": 6,
   "metadata": {},
   "outputs": [
    {
     "data": {
      "image/png": "[encoded data removed]",
      "text/plain": [
       "<Figure size 432x288 with 1 Axes>"
      ]
     },
     "metadata": {},
     "output_type": "display_data"
    }
   ],
   "source": [
    "# 观察最大深度对模型评分的影响\n",
    "def plt_depth_results():\n",
    "    import matplotlib.pyplot as plt\n",
    "    max_depth = [4,5,6,7,8,9,10,11]\n",
    "    eval_rmspe = [0.111682,0.105121,0.102344,0.101419,0.100333,0.100081,0.099161,0.099799]\n",
    "    train_rmspe = [0.170311,0.157656,0.135865,0.11265,0.091798,0.077948,0.068574,0.062207]\n",
    "    plt.plot(max_depth,eval_rmspe,label='eval')\n",
    "    plt.plot(max_depth,train_rmspe,label='train')\n",
    "    plt.legend()\n",
    "    plt.xlabel('max_depth')\n",
    "    plt.ylabel('RMSPE')\n",
    "    plt.show()\n",
    "\n",
    "plt_depth_results()"
   ]
  },
  {
   "cell_type": "code",
   "execution_count": 41,
   "metadata": {},
   "outputs": [
    {
     "data": {
      "image/png": "[encoded data removed]",
      "text/plain": [
       "<Figure size 720x360 with 2 Axes>"
      ]
     },
     "metadata": {},
     "output_type": "display_data"
    }
   ],
   "source": [
    "# 观察对于7，8两个最大深度，模型评分随计算步骤增加而发生变化的规律。 \n",
    "def plt_7_8():\n",
    "    import matplotlib.pyplot as plt\n",
    "    eval_rmspe_7 = [0.999527,0.110709,0.105673,0.104067,0.103087,0.102361,0.101892,0.101438,0.10134,0.101508,0.101419]\n",
    "    eval_rmspe_8 = [0.999527,0.105707,0.10285,0.102085,0.101411,0.101205,0.100991,0.100812,0.100631,0.100652,0.100333]\n",
    "\n",
    "    train_rmspe_7 = [0.999527,0.171532,0.15841,0.149674,0.14038,0.134576,0.128973,0.124304,0.119962,0.115796,0.11265]\n",
    "    train_rmspe_8 = [0.999528,0.155701,0.14001,0.12716,0.117625,0.110258,0.1055,0.10074,0.096934,0.094185,0.091798]\n",
    "    \n",
    "    rounds = [0,1000,2000,3000,4000,5000,6000,7000,8000,9000,9999]\n",
    "    \n",
    "    fig,(ax1,ax2) = plt.subplots(1,2,sharex=True,sharey=True,figsize=(10,5))\n",
    "\n",
    "    \n",
    "    ax1.plot(rounds[5:],eval_rmspe_7[5:],label='eval')\n",
    "    ax1.plot(rounds[5:],train_rmspe_7[5:],label='train')\n",
    "    ax1.set_xlabel('rounds')\n",
    "    ax1.set_ylabel('RMSPE')\n",
    "    ax1.set_title('max_depth=7')\n",
    "    ax1.legend()\n",
    "    ax2.plot(rounds[5:],eval_rmspe_8[5:],label='eval')\n",
    "    ax2.plot(rounds[5:],train_rmspe_8[5:],label='train')\n",
    "    ax2.set_xlabel('rounds')\n",
    "    ax2.set_title('max_depth=8')\n",
    "    \n",
    "    ax2.legend()\n",
    "    plt.tight_layout()\n",
    "    plt.show()\n",
    "\n",
    "plt_7_8()"
   ]
  },
  {
   "cell_type": "markdown",
   "metadata": {},
   "source": [
    "### 2.4. Carol\n",
    "\n",
    "取further blake中的7和8两个最大深度，根据上一步中的结果对计算次数rounds进行调整后将两个模型的预测结果进行平均"
   ]
  },
  {
   "cell_type": "code",
   "execution_count": 43,
   "metadata": {},
   "outputs": [],
   "source": [
    "param_carol_7 = {'objective': 'reg:linear', 'eta': 0.1, 'booster': 'gbtree', 'predictor': 'gpu_predictor', 'tree_method': 'gpu_hist', 'alpha': 2, 'subsample': 0.8, 'gama': 2, 'min_child_weight': 50, 'max_depth': 7}\n",
    "param_carol_8 = {'objective': 'reg:linear', 'eta': 0.1, 'booster': 'gbtree', 'predictor': 'gpu_predictor', 'tree_method': 'gpu_hist', 'alpha': 2, 'subsample': 0.8, 'gama': 2, 'min_child_weight': 50, 'max_depth': 8}\n",
    "\n",
    "carol_train = xgb.DMatrix(X,y)\n",
    "carol_7 = xgb.train(param_carol_7,carol_train,13000,feval=rmspe_xg)\n",
    "carol_8 = xgb.train(param_carol_8,carol_train,7000,feval=rmspe_xg)"
   ]
  },
  {
   "cell_type": "code",
   "execution_count": 46,
   "metadata": {},
   "outputs": [
    {
     "data": {
      "text/plain": [
       "array([8.304365, 8.895796, 9.090679, ..., 8.778517, 9.974646, 8.941208],\n",
       "      dtype=float32)"
      ]
     },
     "execution_count": 46,
     "metadata": {},
     "output_type": "execute_result"
    }
   ],
   "source": [
    "test = xgb.DMatrix(cesar_test)\n",
    "pred_7 = carol_7.predict(test)\n",
    "pred_8 = carol_8.predict(test)\n",
    "pred_mean = (pred_7+pred_8)/2\n",
    "pred_mean"
   ]
  },
  {
   "cell_type": "code",
   "execution_count": 47,
   "metadata": {},
   "outputs": [],
   "source": [
    "pred_revised = []\n",
    "for i in range(len(pred_mean)):\n",
    "    if cesar_test.Open.values[i]==0.0:\n",
    "        pred_revised.append(0.0)\n",
    "    else:pred_revised.append(np.e**pred_mean[i])\n",
    "\n",
    "name = 'xgb_carol'\n",
    "# 将结果整理为submission格式\n",
    "id_list = pd.read_csv('data/test.csv').Id.values\n",
    "submission = pd.DataFrame({'Id':id_list,\n",
    "                          'Sales':pred_revised})\n",
    "submission.to_csv('submission/{}.csv'.format(name),index=False)"
   ]
  },
  {
   "cell_type": "code",
   "execution_count": 89,
   "metadata": {},
   "outputs": [
    {
     "data": {
      "image/png": "[encoded data removed]",
      "text/plain": [
       "<Figure size 864x1296 with 1 Axes>"
      ]
     },
     "metadata": {},
     "output_type": "display_data"
    }
   ],
   "source": [
    "fig, ax = plt.subplots(figsize=(12,18))\n",
    "xgb.plot_importance(carol_7, max_num_features=50, height=0.8, ax=ax)\n",
    "plt.show()"
   ]
  },
  {
   "cell_type": "markdown",
   "metadata": {},
   "source": [
    "## 3. Fusion\n"
   ]
  },
  {
   "cell_type": "code",
   "execution_count": 50,
   "metadata": {},
   "outputs": [],
   "source": [
    "# 引入必要的库\n",
    "import numpy as np\n",
    "import matplotlib.pyplot as plt\n",
    "import xgboost as xgb\n",
    "import pandas as pd\n",
    "\n",
    "# thanks to https://www.kaggle.com/qmaruf/xgboost-in-python-with-rmspe\n",
    "# 定义评分标准函数\n",
    "def ToWeight(y):\n",
    "    w = np.zeros(y.shape, dtype=float)\n",
    "    ind = y != 0\n",
    "    w[ind] = 1./(y[ind]**2)\n",
    "    return w\n",
    "\n",
    "def rmspe_xg(yhat, y):\n",
    "    # y = y.values\n",
    "    y = y.get_label()\n",
    "    y = np.exp(y) - 1\n",
    "    yhat = np.exp(yhat) - 1\n",
    "    w = ToWeight(y)\n",
    "    rmspe = np.sqrt(np.mean(w * (y - yhat)**2))\n",
    "    return \"rmspe\", rmspe"
   ]
  },
  {
   "cell_type": "code",
   "execution_count": 67,
   "metadata": {},
   "outputs": [],
   "source": [
    "# 读入数据\n",
    "cesar_train = pd.read_csv('data/cesar_train.csv',index_col=False)\n",
    "cesar_test = pd.read_csv('data/cesar_test.csv',index_col=False)\n",
    "test = xgb.DMatrix(cesar_test)"
   ]
  },
  {
   "cell_type": "code",
   "execution_count": 55,
   "metadata": {},
   "outputs": [],
   "source": [
    "# 将训练集打乱\n",
    "from sklearn.utils import shuffle\n",
    "cesar_train = shuffle(cesar_train)"
   ]
  },
  {
   "cell_type": "code",
   "execution_count": 82,
   "metadata": {},
   "outputs": [],
   "source": [
    "# 将完整训练集拆分为4个训练集\n",
    "locs = [0,200000,400000,600000,len(cesar_train)]\n",
    "trains = [cesar_train[locs[i]:locs[i+1]] for i in [0,1,2,3]]"
   ]
  },
  {
   "cell_type": "code",
   "execution_count": 83,
   "metadata": {},
   "outputs": [],
   "source": [
    "param_carol_7 = {'objective': 'reg:linear', 'eta': 0.1, 'booster': 'gbtree', 'predictor': 'gpu_predictor', 'tree_method': 'gpu_hist', 'alpha': 2, 'subsample': 0.8, 'gama': 2, 'min_child_weight': 50, 'max_depth': 7}\n",
    "param_carol_8 = {'objective': 'reg:linear', 'eta': 0.1, 'booster': 'gbtree', 'predictor': 'gpu_predictor', 'tree_method': 'gpu_hist', 'alpha': 2, 'subsample': 0.8, 'gama': 2, 'min_child_weight': 50, 'max_depth': 8}\n",
    "\n",
    "fusion_preds = []\n",
    "for train in trains:\n",
    "    X = train.drop(['Sales'],axis=1)\n",
    "    y = train.Sales\n",
    "    dtrain = xgb.DMatrix(X,y)\n",
    "    carol_7 = xgb.train(param_carol_7,dtrain,13000,feval=rmspe_xg)\n",
    "    carol_8 = xgb.train(param_carol_8,dtrain,7000,feval=rmspe_xg)\n",
    "    pred_7 = carol_7.predict(test)\n",
    "    pred_8 = carol_8.predict(test)\n",
    "    fusion_pred =( pred_7+pred_8)/2\n",
    "    fusion_preds.append(fusion_pred)   "
   ]
  },
  {
   "cell_type": "code",
   "execution_count": 84,
   "metadata": {},
   "outputs": [],
   "source": [
    "fusion_pred = sum(np.array(fusion_preds))/len(fusion_preds)\n",
    "pred_revised = []\n",
    "for i in range(len(fusion_pred)):\n",
    "    if cesar_test.Open.values[i]==0.0:\n",
    "        pred_revised.append(0.0)\n",
    "    else:pred_revised.append(np.e**fusion_pred[i])\n",
    "\n",
    "name = 'fusion'\n",
    "# 将结果整理为submission格式\n",
    "id_list = pd.read_csv('data/test.csv').Id.values\n",
    "submission = pd.DataFrame({'Id':id_list,\n",
    "                          'Sales':pred_revised})\n",
    "submission.to_csv('submission/{}.csv'.format(name),index=False)"
   ]
  }
 ],
 "metadata": {
  "kernelspec": {
   "display_name": "Python 3",
   "language": "python",
   "name": "python3"
  },
  "language_info": {
   "codemirror_mode": {
    "name": "ipython",
    "version": 3
   },
   "file_extension": ".py",
   "mimetype": "text/x-python",
   "name": "python",
   "nbconvert_exporter": "python",
   "pygments_lexer": "ipython3",
   "version": "3.6.5"
  }
 },
 "nbformat": 4,
 "nbformat_minor": 2
}
