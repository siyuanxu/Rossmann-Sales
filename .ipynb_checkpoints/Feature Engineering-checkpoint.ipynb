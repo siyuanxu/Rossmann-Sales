{
 "cells": [
  {
   "cell_type": "markdown",
   "metadata": {},
   "source": [
    "# Rossmann 销售预测 -- 特征工程\n",
    "\n",
    "> 特征工程决定了机器学习的上限，算法只是在逼近这个上限。\n",
    "\n",
    "在这个notebook中，我将对原始数据进行特征工程。以得到便于机器学习算法进行计算和优化，而且不会由于数据本身产生偏差的训练集和测试集。\n",
    "\n",
    "## 1. Adam\n",
    "\n",
    "在这一部分，我将对原始数据实施剔除、编码和重新组合等操作，在这里我将保留所有的缺失值，所有的连续数值也不会发生变化。\n",
    "\n",
    "### 1.1 无用样本剔除\n",
    "\n",
    "门店关门和销售额为0是等价的，所以数据集中销售额为0、门店关门的样本对我们的预测没有帮助，我决定剔除这部分数据。"
   ]
  },
  {
   "cell_type": "code",
   "execution_count": 168,
   "metadata": {},
   "outputs": [],
   "source": [
    "# 引用必要的库和featuretank\n",
    "# featuretank：本项目特征处理中所需的函数，由本人独立完成\n",
    "\n",
    "import pandas as pd\n",
    "from featuretank import *\n",
    "import matplotlib.pyplot as plt\n",
    "import random\n",
    "import numpy as np"
   ]
  },
  {
   "cell_type": "code",
   "execution_count": 133,
   "metadata": {},
   "outputs": [
    {
     "name": "stderr",
     "output_type": "stream",
     "text": [
      "C:\\Users\\siyuan\\miniconda3\\envs\\capstone\\lib\\site-packages\\IPython\\core\\interactiveshell.py:2728: DtypeWarning: Columns (7) have mixed types. Specify dtype option on import or set low_memory=False.\n",
      "  interactivity=interactivity, compiler=compiler, result=result)\n"
     ]
    }
   ],
   "source": [
    "# 导入kaggle提供的训练集、测试集和门店信息数据\n",
    "\n",
    "train_raw = pd.read_csv('data/train.csv',index_col=False)\n",
    "store_raw = pd.read_csv('data/store.csv',index_col=False)\n",
    "test_raw = pd.read_csv('data/test.csv',index_col=False)"
   ]
  },
  {
   "cell_type": "code",
   "execution_count": 134,
   "metadata": {},
   "outputs": [],
   "source": [
    "train_raw = train_raw[(train_raw.Sales!=0) & (train_raw.Open!=0)]"
   ]
  },
  {
   "cell_type": "code",
   "execution_count": 135,
   "metadata": {},
   "outputs": [
    {
     "name": "stdout",
     "output_type": "stream",
     "text": [
      "172871 (16.99% of whole) samples were deleted from raw train dataset\n"
     ]
    }
   ],
   "source": [
    "print('{0} ({1}% of whole) samples were deleted from raw train dataset'.format(1017209-len(train_raw),round(100*(1017209-len(train_raw))/1017209,2)))"
   ]
  },
  {
   "cell_type": "markdown",
   "metadata": {},
   "source": [
    "销售额分布较宽，应当考虑是否存在异常值并进行删除。"
   ]
  },
  {
   "cell_type": "code",
   "execution_count": 166,
   "metadata": {},
   "outputs": [
    {
     "data": {
      "text/plain": [
       "Text(0.5,1,'All Sales Distribution')"
      ]
     },
     "execution_count": 166,
     "metadata": {},
     "output_type": "execute_result"
    },
    {
     "data": {
      "image/png": "[encoded data removed]",
      "text/plain": [
       "<Figure size 864x288 with 2 Axes>"
      ]
     },
     "metadata": {},
     "output_type": "display_data"
    }
   ],
   "source": [
    "# 训练集整体销售额分布和随机抽取门店的销售额分布\n",
    "\n",
    "figure = plt.figure(figsize=(12,4))\n",
    "fig_1 = figure.add_subplot(121)\n",
    "fig_2 = figure.add_subplot(122)\n",
    "\n",
    "sales_all = train_raw.Sales.values\n",
    "sample_sales = [train_raw[train_raw.Store==i].Sales.values for i in random.sample(range(1,1116),5)]\n",
    "fig_1.violinplot(sales_all)\n",
    "fig_2.violinplot(sample_sales)\n",
    "\n",
    "fig_1.set_title('Distribution of All Sales ')\n",
    "fig_1.set_title('Distribution of 5 random Stores')"
   ]
  },
  {
   "cell_type": "markdown",
   "metadata": {},
   "source": [
    "可以看出，整体销售数据和每家门店的销售数据都在数值较大的方向出现了一个长尾巴，也就是存在一定的“异常值”或者说是“非常规销售额”，对于这些值，我并没有质疑其真实性，只是这些少量的非常规数据无法指导我们去分析大量的常规数据。因此，我计划以门店作为最小集和，对其依次进行异常截断。截断策略采用Turkey method, 对集和进行上异常截断。"
   ]
  },
  {
   "cell_type": "code",
   "execution_count": 200,
   "metadata": {},
   "outputs": [
    {
     "name": "stdout",
     "output_type": "stream",
     "text": [
      "16008 ( 1.896 % of whole) samples were determined as outliers\n"
     ]
    }
   ],
   "source": [
    "# 定义截断值计算函数\n",
    "def outlier_limit(array,k):\n",
    "    # 1st quartile (25%)\n",
    "    Q1 = np.percentile(array, 25)\n",
    "    # 3rd quartile (75%)\n",
    "    Q3 = np.percentile(array,75)\n",
    "    # Interquartile range (IQR)\n",
    "    IQR = Q3 - Q1\n",
    "    upper_limit = Q3+k*IQR\n",
    "    return upper_limit\n",
    "\n",
    "k=1.5\n",
    "# 计算每家店铺的上截断值\n",
    "limits_for_stores = [outlier_limit(train_raw[(train_raw.Store==store_idx)].Sales.values,k) for store_idx in range(1,1116)]\n",
    "# 计算异常值的数量\n",
    "outliers = [train_raw[(train_raw.Store==store_idx)&(train_raw.Sales>limits_for_stores[store_idx-1])] for store_idx in range(1,1116)]\n",
    "outliers_count = sum([len(i) for i in outliers])\n",
    "\n",
    "print(outliers_count,'(',round(100*outliers_count/844338,3),'% of whole)','samples were determined as outliers')"
   ]
  },
  {
   "cell_type": "markdown",
   "metadata": {},
   "source": [
    "可以看出，数据集整体中有1.896%的数据被判断为异常值，剔除这些值并不会影响我们的模型训练。"
   ]
  },
  {
   "cell_type": "code",
   "execution_count": 239,
   "metadata": {},
   "outputs": [
    {
     "data": {
      "text/plain": [
       "[243860,\n",
       " 244795,\n",
       " 246665,\n",
       " 247600,\n",
       " 248535,\n",
       " 249470,\n",
       " 250405,\n",
       " 251340,\n",
       " 264430,\n",
       " 619155,\n",
       " 621385,\n",
       " 622500,\n",
       " 624730,\n",
       " 626960,\n",
       " 848845,\n",
       " 946965,\n",
       " 34566,\n",
       " 136031,\n",
       " 251341,\n",
       " 408421,\n",
       " 509886,\n",
       " 624731,\n",
       " 625846,\n",
       " 626961,\n",
       " 251342,\n",
       " 408422,\n",
       " 509887,\n",
       " 619157,\n",
       " 625847,\n",
       " 626962]"
      ]
     },
     "execution_count": 239,
     "metadata": {},
     "output_type": "execute_result"
    }
   ],
   "source": [
    "# 剔除异常值\n",
    "outliers_idx = []\n",
    "for store_idx in range(1,4):\n",
    "    samples_one_store = train_raw[train_raw.Store==store_idx]\n",
    "    outlier_limit = limits_for_stores[store_idx-1]\n",
    "    outliers = samples_one_store[samples_one_store.Sales>outlier_limit]\n",
    "    outliers_idx.append(outliers.index.tolist())\n",
    "outliers = [i for j in outliers_idx for i in j]"
   ]
  },
  {
   "cell_type": "markdown",
   "metadata": {},
   "source": [
    "### 1.2. 无需处理或直接编码使用的特征处理\n",
    "\n",
    "通过对train.csv和store.csv的观察，我挑选了以下特征作为本部分的处理对象。\n",
    "\n",
    " - 无需处理的特征：`Store, Open, Promo, SchoolHoliday, Customers, Sales, CompetitionDistance, Promo2`\n",
    " - 简单编码的特征：`StateHoliday, StoreType, Assortment, PromoInterval`"
   ]
  },
  {
   "cell_type": "code",
   "execution_count": 5,
   "metadata": {},
   "outputs": [],
   "source": [
    "# 将原始数据集中可直接使用的信息放到good_train/good_test数据集中\n",
    "ready_to_use = ['Store', 'Open', 'Promo', 'SchoolHoliday', 'Customers', 'Sales']\n",
    "\n",
    "good_train = train_raw[simple_feature]\n",
    "good_test = test_raw[simple_feature[:4]]"
   ]
  },
  {
   "cell_type": "code",
   "execution_count": 6,
   "metadata": {},
   "outputs": [
    {
     "name": "stderr",
     "output_type": "stream",
     "text": [
      "C:\\Users\\siyuan\\Dropbox\\github\\Rossmann-Sales\\featuretank.py:37: SettingWithCopyWarning: \n",
      "A value is trying to be set on a copy of a slice from a DataFrame.\n",
      "Try using .loc[row_indexer,col_indexer] = value instead\n",
      "\n",
      "See the caveats in the documentation: http://pandas.pydata.org/pandas-docs/stable/indexing.html#indexing-view-versus-copy\n",
      "  good_df[feature] = good_df_feature\n",
      "C:\\Users\\siyuan\\Dropbox\\github\\Rossmann-Sales\\featuretank.py:77: SettingWithCopyWarning: \n",
      "A value is trying to be set on a copy of a slice from a DataFrame.\n",
      "Try using .loc[row_indexer,col_indexer] = value instead\n",
      "\n",
      "See the caveats in the documentation: http://pandas.pydata.org/pandas-docs/stable/indexing.html#indexing-view-versus-copy\n",
      "  good_df['is_state_holiday'] = is_state_holiday\n"
     ]
    }
   ],
   "source": [
    "# features need OHE\n",
    "good_train = ssf(good_train, store_raw)\n",
    "good_test = ssf(good_test, store_raw)\n",
    "\n",
    "good_train = OHE_stateholiday(train_raw, good_train)\n",
    "good_test = OHE_stateholiday(test_raw, good_test)\n",
    "\n",
    "good_train = OHE_storetype(good_train, store_raw)\n",
    "good_test = OHE_storetype(good_test, store_raw)\n",
    "\n",
    "good_train = OHE_assortment(good_train, store_raw)\n",
    "good_test = OHE_assortment(good_test, store_raw)\n",
    "\n",
    "good_train = OHE_promointerval(good_train, store_raw)\n",
    "good_test = OHE_promointerval(good_test, store_raw)"
   ]
  },
  {
   "cell_type": "markdown",
   "metadata": {},
   "source": [
    "在经过编码后，数据集的特征发生了变化，以训练集为例，新的特征空间如下："
   ]
  },
  {
   "cell_type": "code",
   "execution_count": 7,
   "metadata": {},
   "outputs": [
    {
     "data": {
      "text/plain": [
       "['Store',\n",
       " 'Open',\n",
       " 'Promo',\n",
       " 'SchoolHoliday',\n",
       " 'Customers',\n",
       " 'Sales',\n",
       " 'CompetitionDistance',\n",
       " 'Promo2',\n",
       " 'is_state_holiday',\n",
       " 'is_public_holiday',\n",
       " 'is_easter',\n",
       " 'is_christmas',\n",
       " 'is_type_a',\n",
       " 'is_type_b',\n",
       " 'is_type_c',\n",
       " 'is_type_d',\n",
       " 'is_scale_a',\n",
       " 'is_scale_b',\n",
       " 'is_scale_c',\n",
       " 'is_promo2_a',\n",
       " 'is_promo2_b',\n",
       " 'is_promo2_c']"
      ]
     },
     "execution_count": 7,
     "metadata": {},
     "output_type": "execute_result"
    }
   ],
   "source": [
    "[i for i in good_train.columns.values]"
   ]
  },
  {
   "cell_type": "markdown",
   "metadata": {},
   "source": [
    "### 1.3. 时间特征的处理\n",
    "\n",
    "在原始数据中，时间特征以字符串形体提供（2015-07-31）。这显然是无法直接使用的，考虑到促销特征和竞争商家的时间特征格式（年、月、周）我决定将样本的时间特征拆分为`Year,Month,DayOfMonth,WeekOfYear,DayOfWeek`。"
   ]
  },
  {
   "cell_type": "code",
   "execution_count": 8,
   "metadata": {},
   "outputs": [],
   "source": [
    "good_train = good_datetime(train_raw, good_train)\n",
    "good_test = good_datetime(test_raw, good_test)"
   ]
  },
  {
   "cell_type": "markdown",
   "metadata": {},
   "source": [
    "### 1.4. 新特征构造\n",
    "\n",
    "虽然原始数据中的样本特征已经很丰富，也足够准确，但是有一些现实中存在潜在联系并没有表现出来。例如当前时间距离周期性促销活动还剩多久，竞争商家已经开业了多久了，这家门店是否火爆等等，这些信息需要在现有基础上进一挖掘。\n",
    "\n",
    "在这一部分，我将在训练集和测试集中添加以下几个新的特征：\n",
    "\n",
    "- CompetitionTime：竞争商家开业距今有多少月。\n",
    "- Promo2Time：周年促销活动的第一次推出距今有多少月。\n",
    "- Sales2013/2014/2015（三项）：2013/2014/2015年门店的平均销售额，作为门店特征对应到每条数据中。\n",
    "- Heat2013/2014/2015（三项）：2013/2014/2015门店的平均销售额和平均客流量的商，作为门店热度对应到每条数据中。"
   ]
  },
  {
   "cell_type": "code",
   "execution_count": 9,
   "metadata": {},
   "outputs": [],
   "source": [
    "# 计算并添加 competitiontime 和 promo2time 特征\n",
    "good_train = competitiontime_promo2tim(good_train, store_raw)\n",
    "good_test = competitiontime_promo2tim(good_test, store_raw)\n",
    "\n",
    "# 计算并添加年均销售额和年均热度特征\n",
    "good_train, good_test = sale_cus(good_train, good_test, store_raw)\n",
    "\n",
    "# 由于客流量和销售额一样都是未知数据，测试集无法提供，所以训练集中的客流量无法在机器学习任务中使用，故剔除这一特征\n",
    "good_train.drop(['Customers'], axis=1,inplace=True)"
   ]
  },
  {
   "cell_type": "markdown",
   "metadata": {},
   "source": [
    "### 1.5. Adam 小结\n",
    "\n",
    "至此，我完成了原始数据的无用值剔除、特征编码、时间特征拆分和新特征的构造工作。我将本部分成果保存为 `adam_train.csv, adam_test.csv`，adam中含有很多缺失值，但是例如xgboost这样的自带缺失填充功能的算法已经可以使用adam数据集进行训练和预测任务。"
   ]
  },
  {
   "cell_type": "code",
   "execution_count": 10,
   "metadata": {},
   "outputs": [],
   "source": [
    "good_train.to_csv('data/adam_train.csv',index=False)\n",
    "good_test.to_csv('data/adam_test.csv',index=False) "
   ]
  },
  {
   "cell_type": "code",
   "execution_count": 11,
   "metadata": {},
   "outputs": [
    {
     "data": {
      "text/html": [
       "<div>\n",
       "<style scoped>\n",
       "    .dataframe tbody tr th:only-of-type {\n",
       "        vertical-align: middle;\n",
       "    }\n",
       "\n",
       "    .dataframe tbody tr th {\n",
       "        vertical-align: top;\n",
       "    }\n",
       "\n",
       "    .dataframe thead th {\n",
       "        text-align: right;\n",
       "    }\n",
       "</style>\n",
       "<table border=\"1\" class=\"dataframe\">\n",
       "  <thead>\n",
       "    <tr style=\"text-align: right;\">\n",
       "      <th></th>\n",
       "      <th>Store</th>\n",
       "      <th>Open</th>\n",
       "      <th>Promo</th>\n",
       "      <th>SchoolHoliday</th>\n",
       "      <th>Sales</th>\n",
       "      <th>CompetitionDistance</th>\n",
       "      <th>Promo2</th>\n",
       "      <th>is_state_holiday</th>\n",
       "      <th>is_public_holiday</th>\n",
       "      <th>is_easter</th>\n",
       "      <th>...</th>\n",
       "      <th>WeekOfYear</th>\n",
       "      <th>DayOfWeek</th>\n",
       "      <th>CompetitionTime</th>\n",
       "      <th>Promo2Time</th>\n",
       "      <th>Sales2013</th>\n",
       "      <th>Sales2014</th>\n",
       "      <th>Sales2015</th>\n",
       "      <th>Heat2013</th>\n",
       "      <th>Heat2014</th>\n",
       "      <th>Heat2015</th>\n",
       "    </tr>\n",
       "  </thead>\n",
       "  <tbody>\n",
       "    <tr>\n",
       "      <th>0</th>\n",
       "      <td>1</td>\n",
       "      <td>1</td>\n",
       "      <td>1</td>\n",
       "      <td>1</td>\n",
       "      <td>5263</td>\n",
       "      <td>1270.0</td>\n",
       "      <td>0</td>\n",
       "      <td>0</td>\n",
       "      <td>0</td>\n",
       "      <td>0</td>\n",
       "      <td>...</td>\n",
       "      <td>31</td>\n",
       "      <td>5</td>\n",
       "      <td>82.0</td>\n",
       "      <td>NaN</td>\n",
       "      <td>4922.209302</td>\n",
       "      <td>4726.586093</td>\n",
       "      <td>4538.426966</td>\n",
       "      <td>8.337094</td>\n",
       "      <td>8.490133</td>\n",
       "      <td>8.531869</td>\n",
       "    </tr>\n",
       "    <tr>\n",
       "      <th>1</th>\n",
       "      <td>2</td>\n",
       "      <td>1</td>\n",
       "      <td>1</td>\n",
       "      <td>1</td>\n",
       "      <td>6064</td>\n",
       "      <td>570.0</td>\n",
       "      <td>1</td>\n",
       "      <td>0</td>\n",
       "      <td>0</td>\n",
       "      <td>0</td>\n",
       "      <td>...</td>\n",
       "      <td>31</td>\n",
       "      <td>5</td>\n",
       "      <td>92.0</td>\n",
       "      <td>78.0</td>\n",
       "      <td>4895.655629</td>\n",
       "      <td>4991.178218</td>\n",
       "      <td>4989.067039</td>\n",
       "      <td>8.368358</td>\n",
       "      <td>8.513869</td>\n",
       "      <td>8.624435</td>\n",
       "    </tr>\n",
       "    <tr>\n",
       "      <th>2</th>\n",
       "      <td>3</td>\n",
       "      <td>1</td>\n",
       "      <td>1</td>\n",
       "      <td>1</td>\n",
       "      <td>8314</td>\n",
       "      <td>14130.0</td>\n",
       "      <td>1</td>\n",
       "      <td>0</td>\n",
       "      <td>0</td>\n",
       "      <td>0</td>\n",
       "      <td>...</td>\n",
       "      <td>31</td>\n",
       "      <td>5</td>\n",
       "      <td>103.0</td>\n",
       "      <td>65.0</td>\n",
       "      <td>7045.603333</td>\n",
       "      <td>6865.664452</td>\n",
       "      <td>6898.960674</td>\n",
       "      <td>9.137555</td>\n",
       "      <td>9.216726</td>\n",
       "      <td>9.536277</td>\n",
       "    </tr>\n",
       "    <tr>\n",
       "      <th>3</th>\n",
       "      <td>4</td>\n",
       "      <td>1</td>\n",
       "      <td>1</td>\n",
       "      <td>1</td>\n",
       "      <td>13995</td>\n",
       "      <td>620.0</td>\n",
       "      <td>0</td>\n",
       "      <td>0</td>\n",
       "      <td>0</td>\n",
       "      <td>0</td>\n",
       "      <td>...</td>\n",
       "      <td>31</td>\n",
       "      <td>5</td>\n",
       "      <td>70.0</td>\n",
       "      <td>NaN</td>\n",
       "      <td>9355.768212</td>\n",
       "      <td>9764.551155</td>\n",
       "      <td>9901.709497</td>\n",
       "      <td>7.141519</td>\n",
       "      <td>7.320659</td>\n",
       "      <td>7.495395</td>\n",
       "    </tr>\n",
       "    <tr>\n",
       "      <th>4</th>\n",
       "      <td>5</td>\n",
       "      <td>1</td>\n",
       "      <td>1</td>\n",
       "      <td>1</td>\n",
       "      <td>4822</td>\n",
       "      <td>29910.0</td>\n",
       "      <td>0</td>\n",
       "      <td>0</td>\n",
       "      <td>0</td>\n",
       "      <td>0</td>\n",
       "      <td>...</td>\n",
       "      <td>31</td>\n",
       "      <td>5</td>\n",
       "      <td>3.0</td>\n",
       "      <td>NaN</td>\n",
       "      <td>4720.862876</td>\n",
       "      <td>4663.199336</td>\n",
       "      <td>4623.782123</td>\n",
       "      <td>8.666229</td>\n",
       "      <td>8.687721</td>\n",
       "      <td>8.791207</td>\n",
       "    </tr>\n",
       "  </tbody>\n",
       "</table>\n",
       "<p>5 rows × 34 columns</p>\n",
       "</div>"
      ],
      "text/plain": [
       "   Store  Open  Promo  SchoolHoliday  Sales  CompetitionDistance  Promo2  \\\n",
       "0      1     1      1              1   5263               1270.0       0   \n",
       "1      2     1      1              1   6064                570.0       1   \n",
       "2      3     1      1              1   8314              14130.0       1   \n",
       "3      4     1      1              1  13995                620.0       0   \n",
       "4      5     1      1              1   4822              29910.0       0   \n",
       "\n",
       "   is_state_holiday  is_public_holiday  is_easter    ...     WeekOfYear  \\\n",
       "0                 0                  0          0    ...             31   \n",
       "1                 0                  0          0    ...             31   \n",
       "2                 0                  0          0    ...             31   \n",
       "3                 0                  0          0    ...             31   \n",
       "4                 0                  0          0    ...             31   \n",
       "\n",
       "   DayOfWeek  CompetitionTime  Promo2Time    Sales2013    Sales2014  \\\n",
       "0          5             82.0         NaN  4922.209302  4726.586093   \n",
       "1          5             92.0        78.0  4895.655629  4991.178218   \n",
       "2          5            103.0        65.0  7045.603333  6865.664452   \n",
       "3          5             70.0         NaN  9355.768212  9764.551155   \n",
       "4          5              3.0         NaN  4720.862876  4663.199336   \n",
       "\n",
       "     Sales2015  Heat2013  Heat2014  Heat2015  \n",
       "0  4538.426966  8.337094  8.490133  8.531869  \n",
       "1  4989.067039  8.368358  8.513869  8.624435  \n",
       "2  6898.960674  9.137555  9.216726  9.536277  \n",
       "3  9901.709497  7.141519  7.320659  7.495395  \n",
       "4  4623.782123  8.666229  8.687721  8.791207  \n",
       "\n",
       "[5 rows x 34 columns]"
      ]
     },
     "execution_count": 11,
     "metadata": {},
     "output_type": "execute_result"
    }
   ],
   "source": [
    "good_train.head()"
   ]
  },
  {
   "cell_type": "markdown",
   "metadata": {},
   "source": [
    "## 2. Blanc\n",
    "\n",
    "在这一部分，我将着手处理adam中的诸多缺失值，对于不同的特征，我会定义不同的策略来完成这一任务。\n",
    "\n",
    "首先，为了防止变量混淆和内存过大，我将清空本notebook占用的所有内容。"
   ]
  },
  {
   "cell_type": "code",
   "execution_count": 89,
   "metadata": {},
   "outputs": [
    {
     "name": "stdout",
     "output_type": "stream",
     "text": [
      "Once deleted, variables cannot be recovered. Proceed (y/[n])? y\n"
     ]
    }
   ],
   "source": [
    "reset"
   ]
  },
  {
   "cell_type": "markdown",
   "metadata": {},
   "source": [
    "这一部分的操作以adam为基础，引用必要的库和adam数据集"
   ]
  },
  {
   "cell_type": "code",
   "execution_count": 90,
   "metadata": {},
   "outputs": [],
   "source": [
    "import pandas as pd\n",
    "import numpy as np\n",
    "from featuretank import *"
   ]
  },
  {
   "cell_type": "code",
   "execution_count": 91,
   "metadata": {},
   "outputs": [],
   "source": [
    "train = pd.read_csv('data/adam_train.csv')\n",
    "test = pd.read_csv('data/adam_test.csv')"
   ]
  },
  {
   "cell_type": "markdown",
   "metadata": {},
   "source": [
    "### 2.1. 确定缺失内容"
   ]
  },
  {
   "cell_type": "code",
   "execution_count": 92,
   "metadata": {},
   "outputs": [
    {
     "name": "stdout",
     "output_type": "stream",
     "text": [
      "['Store' 'Open' 'Promo' 'SchoolHoliday' 'Sales' 'CompetitionDistance'\n",
      " 'Promo2' 'is_state_holiday' 'is_public_holiday' 'is_easter'\n",
      " 'is_christmas' 'is_type_a' 'is_type_b' 'is_type_c' 'is_type_d'\n",
      " 'is_scale_a' 'is_scale_b' 'is_scale_c' 'is_promo2_a' 'is_promo2_b'\n",
      " 'is_promo2_c' 'Year' 'Month' 'DayOfMonth' 'WeekOfYear' 'DayOfWeek'\n",
      " 'CompetitionTime' 'Promo2Time' 'Sales2013' 'Sales2014' 'Sales2015'\n",
      " 'Heat2013' 'Heat2014' 'Heat2015']\n",
      "CompetitionDistance miss 2186\n",
      "is_promo2_a miss 423292\n",
      "is_promo2_b miss 423292\n",
      "is_promo2_c miss 423292\n",
      "CompetitionTime miss 268600\n",
      "Promo2Time miss 423292\n"
     ]
    }
   ],
   "source": [
    "null_hunter(train)"
   ]
  },
  {
   "cell_type": "code",
   "execution_count": 93,
   "metadata": {},
   "outputs": [
    {
     "name": "stdout",
     "output_type": "stream",
     "text": [
      "['Store' 'Open' 'Promo' 'SchoolHoliday' 'CompetitionDistance' 'Promo2'\n",
      " 'is_state_holiday' 'is_public_holiday' 'is_easter' 'is_christmas'\n",
      " 'is_type_a' 'is_type_b' 'is_type_c' 'is_type_d' 'is_scale_a' 'is_scale_b'\n",
      " 'is_scale_c' 'is_promo2_a' 'is_promo2_b' 'is_promo2_c' 'Year' 'Month'\n",
      " 'DayOfMonth' 'WeekOfYear' 'DayOfWeek' 'CompetitionTime' 'Promo2Time'\n",
      " 'Sales2013' 'Sales2014' 'Sales2015' 'Heat2013' 'Heat2014' 'Heat2015']\n",
      "Open miss 11\n",
      "CompetitionDistance miss 96\n",
      "is_promo2_a miss 17232\n",
      "is_promo2_b miss 17232\n",
      "is_promo2_c miss 17232\n",
      "CompetitionTime miss 15216\n",
      "Promo2Time miss 17232\n"
     ]
    }
   ],
   "source": [
    "null_hunter(test)"
   ]
  },
  {
   "cell_type": "markdown",
   "metadata": {},
   "source": [
    "从上面的输出结果可以看出，训练集和测试集均有样本缺失以下特征：\n",
    "\n",
    "- 竞争商家信息\n",
    "    - CompetitionDistance\n",
    "    - CompetitionTime miss \n",
    "- 周年性促销信息\n",
    "    - is_promo2_a miss （活动类型）\n",
    "    - is_promo2_b miss （活动类型）\n",
    "    - is_promo2_c miss （活动类型）\n",
    "    - Promo2Time miss \n",
    "\n",
    "同时，测试集额外缺失 Open 特征。针对这三种缺失，我将分别制定填充策略。"
   ]
  },
  {
   "cell_type": "markdown",
   "metadata": {},
   "source": [
    "### 2.2. 竞争商家信息缺失值填充\n",
    "\n",
    "商家距离信息和开业时间信息我决定采用均值填充。"
   ]
  },
  {
   "cell_type": "code",
   "execution_count": 94,
   "metadata": {},
   "outputs": [],
   "source": [
    "# 计算competitiondistance 和 competitiontime 的均值\n",
    "cd_fill_value = np.mean([i for i in train.CompetitionDistance.values if not pd.isnull(i)])\n",
    "ct_fill_value = np.mean([i for i in train.CompetitionTime.values if not pd.isnull(i)])"
   ]
  },
  {
   "cell_type": "code",
   "execution_count": 95,
   "metadata": {},
   "outputs": [],
   "source": [
    "# 定义填充器\n",
    "cd_filler = lambda x: cd_fill_value if pd.isnull(x) else x\n",
    "ct_filler = lambda x: ct_fill_value if pd.isnull(x) else x\n",
    "# 应用填充\n",
    "train.CompetitionDistance = train.CompetitionDistance.apply(cd_filler)\n",
    "train.CompetitionTime = train.CompetitionTime.apply(ct_filler)\n",
    "test.CompetitionDistance = test.CompetitionDistance.apply(cd_filler)\n",
    "test.CompetitionTime = test.CompetitionTime.apply(ct_filler)"
   ]
  },
  {
   "cell_type": "markdown",
   "metadata": {},
   "source": [
    "### 2.3. 周年促销活动信息缺失值填充\n",
    "\n",
    "缺失的特征中，周年促销活动的类型是确定的（无活动），所以类型特征均应为 0 值。如果按照同样的思路将促销活动距今的时间也设为0，那么将会混淆没有促销和促销刚开始这两种情况，完备样本中promo2time这一特征的值为正值（以月为单位），因此应对缺失值，我将使用该特征下所有非正数样本的均值进行填充。"
   ]
  },
  {
   "cell_type": "code",
   "execution_count": 96,
   "metadata": {},
   "outputs": [],
   "source": [
    "# 定义和计算促销类别和距今时间的填充值\n",
    "is_promo2_a_value = 0\n",
    "is_promo2_b_value = 0\n",
    "is_promo2_c_value = 0\n",
    "p2t_fill_value = np.mean([i for i in train.Promo2Time.values if i<=0])\n",
    "# 定义填充器\n",
    "is_promo2_a_filler = lambda x: is_promo2_a_value if pd.isnull(x) else x\n",
    "is_promo2_b_filler = lambda x: is_promo2_b_value if pd.isnull(x) else x\n",
    "is_promo2_c_filler = lambda x: is_promo2_c_value if pd.isnull(x) else x\n",
    "p2t_fill_filler = lambda x: p2t_fill_value if pd.isnull(x) else x\n",
    "# 应用填充\n",
    "train.is_promo2_a = train.is_promo2_a.apply(is_promo2_a_filler)\n",
    "train.is_promo2_b = train.is_promo2_b.apply(is_promo2_b_filler)\n",
    "train.is_promo2_c = train.is_promo2_c.apply(is_promo2_c_filler)\n",
    "train.Promo2Time = train.Promo2Time.apply(p2t_fill_filler)\n",
    "test.is_promo2_a = test.is_promo2_a.apply(is_promo2_a_filler)\n",
    "test.is_promo2_b = test.is_promo2_b.apply(is_promo2_b_filler)\n",
    "test.is_promo2_c = test.is_promo2_c.apply(is_promo2_c_filler)\n",
    "test.Promo2Time = test.Promo2Time.apply(p2t_fill_filler)"
   ]
  },
  {
   "cell_type": "markdown",
   "metadata": {},
   "source": [
    "### 2.4. 测试集Open特征的填充\n",
    "\n",
    "我计划在这里进行一项小的机器学习任务来补全缺失的数据。我认为`'Store','Promo','is_state_holiday','SchoolHoliday','DayOfWeek'`这些特征和Open之间的关联度比较高。所以，我决定使用机器学习而不是人工判断的方法来建立缺失值的判断策略。算法我选择使用高效简单的随机森林算法。"
   ]
  },
  {
   "cell_type": "code",
   "execution_count": 107,
   "metadata": {},
   "outputs": [
    {
     "name": "stderr",
     "output_type": "stream",
     "text": [
      "C:\\Users\\siyuan\\miniconda3\\envs\\capstone\\lib\\site-packages\\IPython\\core\\interactiveshell.py:2728: DtypeWarning: Columns (7) have mixed types. Specify dtype option on import or set low_memory=False.\n",
      "  interactivity=interactivity, compiler=compiler, result=result)\n"
     ]
    },
    {
     "name": "stdout",
     "output_type": "stream",
     "text": [
      "0.997080248916153\n"
     ]
    }
   ],
   "source": [
    "# 准备针对Open特征的数据集,从整体训练集中筛选。\n",
    "from featuretank import *\n",
    "\n",
    "blanc_junior = pd.read_csv('data/train.csv',index_col=False)\n",
    "blanc_junior = OHE_stateholiday(blanc_junior,blanc_junior)\n",
    "blanc_junior_train_X = blanc_junior[['Store','Promo','is_state_holiday','SchoolHoliday','DayOfWeek']]\n",
    "blanc_junior_train_y = blanc_junior.Open\n",
    "\n",
    "# 训练模型并进行验证集评价\n",
    "from sklearn.ensemble import RandomForestClassifier\n",
    "from sklearn.model_selection import train_test_split\n",
    "\n",
    "def junior_clf_generator(X,y):\n",
    "    X_train, X_test, y_train, y_test = train_test_split(X, y, test_size=0.1, random_state=1)\n",
    "    clf = RandomForestClassifier().fit(X_train, y_train)\n",
    "    score = clf.score(X_test, y_test)\n",
    "    print(score)\n",
    "    return clf, score\n",
    "\n",
    "junior_clf,junior_score = junior_clf_generator(blanc_junior_train_X,blanc_junior_train_y)"
   ]
  },
  {
   "cell_type": "markdown",
   "metadata": {},
   "source": [
    "可以看出验证评分相当高，这也说明选择的特征和Open之间的相关性确实很高"
   ]
  },
  {
   "cell_type": "code",
   "execution_count": 110,
   "metadata": {},
   "outputs": [
    {
     "data": {
      "text/plain": [
       "0.9987097402439321"
      ]
     },
     "execution_count": 110,
     "metadata": {},
     "output_type": "execute_result"
    }
   ],
   "source": [
    "# 筛选出整体测试集中Open非空的部分作为随机森林分类器的测试部分\n",
    "blanc_junior_test = test[pd.notnull(test.Open)]\n",
    "blanc_junior_test_X = blanc_junior_test[['Store','Promo','is_state_holiday','SchoolHoliday','DayOfWeek']]\n",
    "blanc_junior_test_y = blanc_junior_test.Open\n",
    "\n",
    "# 在Open测试集上评价模型\n",
    "junior_clf.score(blanc_junior_test_X,blanc_junior_test_y)"
   ]
  },
  {
   "cell_type": "markdown",
   "metadata": {},
   "source": [
    "测试结果也较好，说明分类器可以完成我们的目的：预测缺失Open数据的值"
   ]
  },
  {
   "cell_type": "code",
   "execution_count": 112,
   "metadata": {},
   "outputs": [],
   "source": [
    "# 对测试集进行预测\n",
    "blanc_test_open_pred = junior_clf.predict(test[['Store','Promo','is_state_holiday','SchoolHoliday','DayOfWeek']])\n",
    "\n",
    "# 根据预测结果建立Open缺失值的填充策略\n",
    "blanc_test_open_filled = []\n",
    "\n",
    "for i in range(len(blanc_test_open_pred)):\n",
    "    if pd.isnull(test.Open.values[i]):\n",
    "        blanc_test_open_filled.append(blanc_test_open_pred[i])\n",
    "    else:blanc_test_open_filled.append(test.Open.values[i])\n",
    "\n",
    "# 将原有测试集中的Open列替换为填充过的值\n",
    "test.Open = blanc_test_open_filled"
   ]
  },
  {
   "cell_type": "markdown",
   "metadata": {},
   "source": [
    "再次检查训练集和测试集是否还有缺失值"
   ]
  },
  {
   "cell_type": "code",
   "execution_count": 113,
   "metadata": {},
   "outputs": [
    {
     "name": "stdout",
     "output_type": "stream",
     "text": [
      "['Store' 'Open' 'Promo' 'SchoolHoliday' 'Sales' 'CompetitionDistance'\n",
      " 'Promo2' 'is_state_holiday' 'is_public_holiday' 'is_easter'\n",
      " 'is_christmas' 'is_type_a' 'is_type_b' 'is_type_c' 'is_type_d'\n",
      " 'is_scale_a' 'is_scale_b' 'is_scale_c' 'is_promo2_a' 'is_promo2_b'\n",
      " 'is_promo2_c' 'Year' 'Month' 'DayOfMonth' 'WeekOfYear' 'DayOfWeek'\n",
      " 'CompetitionTime' 'Promo2Time' 'Sales2013' 'Sales2014' 'Sales2015'\n",
      " 'Heat2013' 'Heat2014' 'Heat2015']\n"
     ]
    }
   ],
   "source": [
    "null_hunter(train)"
   ]
  },
  {
   "cell_type": "code",
   "execution_count": 114,
   "metadata": {},
   "outputs": [
    {
     "name": "stdout",
     "output_type": "stream",
     "text": [
      "['Store' 'Open' 'Promo' 'SchoolHoliday' 'CompetitionDistance' 'Promo2'\n",
      " 'is_state_holiday' 'is_public_holiday' 'is_easter' 'is_christmas'\n",
      " 'is_type_a' 'is_type_b' 'is_type_c' 'is_type_d' 'is_scale_a' 'is_scale_b'\n",
      " 'is_scale_c' 'is_promo2_a' 'is_promo2_b' 'is_promo2_c' 'Year' 'Month'\n",
      " 'DayOfMonth' 'WeekOfYear' 'DayOfWeek' 'CompetitionTime' 'Promo2Time'\n",
      " 'Sales2013' 'Sales2014' 'Sales2015' 'Heat2013' 'Heat2014' 'Heat2015']\n"
     ]
    }
   ],
   "source": [
    "null_hunter(test)"
   ]
  },
  {
   "cell_type": "markdown",
   "metadata": {},
   "source": [
    "### 2.5. Blanc 小结\n",
    "\n",
    "在这一部分，我检查了训练集和测试集中的缺失值，针对不同的缺失特征制定了不同的填充策略，我将本部分成果保存为 `blanc_train.csv, blanc_test.csv`，此时的数据已经可以供大部分机器学习算法使用。"
   ]
  },
  {
   "cell_type": "code",
   "execution_count": 115,
   "metadata": {},
   "outputs": [
    {
     "data": {
      "text/html": [
       "<div>\n",
       "<style scoped>\n",
       "    .dataframe tbody tr th:only-of-type {\n",
       "        vertical-align: middle;\n",
       "    }\n",
       "\n",
       "    .dataframe tbody tr th {\n",
       "        vertical-align: top;\n",
       "    }\n",
       "\n",
       "    .dataframe thead th {\n",
       "        text-align: right;\n",
       "    }\n",
       "</style>\n",
       "<table border=\"1\" class=\"dataframe\">\n",
       "  <thead>\n",
       "    <tr style=\"text-align: right;\">\n",
       "      <th></th>\n",
       "      <th>Store</th>\n",
       "      <th>Open</th>\n",
       "      <th>Promo</th>\n",
       "      <th>SchoolHoliday</th>\n",
       "      <th>Sales</th>\n",
       "      <th>CompetitionDistance</th>\n",
       "      <th>Promo2</th>\n",
       "      <th>is_state_holiday</th>\n",
       "      <th>is_public_holiday</th>\n",
       "      <th>is_easter</th>\n",
       "      <th>...</th>\n",
       "      <th>WeekOfYear</th>\n",
       "      <th>DayOfWeek</th>\n",
       "      <th>CompetitionTime</th>\n",
       "      <th>Promo2Time</th>\n",
       "      <th>Sales2013</th>\n",
       "      <th>Sales2014</th>\n",
       "      <th>Sales2015</th>\n",
       "      <th>Heat2013</th>\n",
       "      <th>Heat2014</th>\n",
       "      <th>Heat2015</th>\n",
       "    </tr>\n",
       "  </thead>\n",
       "  <tbody>\n",
       "    <tr>\n",
       "      <th>0</th>\n",
       "      <td>1</td>\n",
       "      <td>1</td>\n",
       "      <td>1</td>\n",
       "      <td>1</td>\n",
       "      <td>5263</td>\n",
       "      <td>1270.0</td>\n",
       "      <td>0</td>\n",
       "      <td>0</td>\n",
       "      <td>0</td>\n",
       "      <td>0</td>\n",
       "      <td>...</td>\n",
       "      <td>31</td>\n",
       "      <td>5</td>\n",
       "      <td>82.0</td>\n",
       "      <td>-15.636591</td>\n",
       "      <td>4922.209302</td>\n",
       "      <td>4726.586093</td>\n",
       "      <td>4538.426966</td>\n",
       "      <td>8.337094</td>\n",
       "      <td>8.490133</td>\n",
       "      <td>8.531869</td>\n",
       "    </tr>\n",
       "    <tr>\n",
       "      <th>1</th>\n",
       "      <td>2</td>\n",
       "      <td>1</td>\n",
       "      <td>1</td>\n",
       "      <td>1</td>\n",
       "      <td>6064</td>\n",
       "      <td>570.0</td>\n",
       "      <td>1</td>\n",
       "      <td>0</td>\n",
       "      <td>0</td>\n",
       "      <td>0</td>\n",
       "      <td>...</td>\n",
       "      <td>31</td>\n",
       "      <td>5</td>\n",
       "      <td>92.0</td>\n",
       "      <td>78.000000</td>\n",
       "      <td>4895.655629</td>\n",
       "      <td>4991.178218</td>\n",
       "      <td>4989.067039</td>\n",
       "      <td>8.368358</td>\n",
       "      <td>8.513869</td>\n",
       "      <td>8.624435</td>\n",
       "    </tr>\n",
       "    <tr>\n",
       "      <th>2</th>\n",
       "      <td>3</td>\n",
       "      <td>1</td>\n",
       "      <td>1</td>\n",
       "      <td>1</td>\n",
       "      <td>8314</td>\n",
       "      <td>14130.0</td>\n",
       "      <td>1</td>\n",
       "      <td>0</td>\n",
       "      <td>0</td>\n",
       "      <td>0</td>\n",
       "      <td>...</td>\n",
       "      <td>31</td>\n",
       "      <td>5</td>\n",
       "      <td>103.0</td>\n",
       "      <td>65.000000</td>\n",
       "      <td>7045.603333</td>\n",
       "      <td>6865.664452</td>\n",
       "      <td>6898.960674</td>\n",
       "      <td>9.137555</td>\n",
       "      <td>9.216726</td>\n",
       "      <td>9.536277</td>\n",
       "    </tr>\n",
       "    <tr>\n",
       "      <th>3</th>\n",
       "      <td>4</td>\n",
       "      <td>1</td>\n",
       "      <td>1</td>\n",
       "      <td>1</td>\n",
       "      <td>13995</td>\n",
       "      <td>620.0</td>\n",
       "      <td>0</td>\n",
       "      <td>0</td>\n",
       "      <td>0</td>\n",
       "      <td>0</td>\n",
       "      <td>...</td>\n",
       "      <td>31</td>\n",
       "      <td>5</td>\n",
       "      <td>70.0</td>\n",
       "      <td>-15.636591</td>\n",
       "      <td>9355.768212</td>\n",
       "      <td>9764.551155</td>\n",
       "      <td>9901.709497</td>\n",
       "      <td>7.141519</td>\n",
       "      <td>7.320659</td>\n",
       "      <td>7.495395</td>\n",
       "    </tr>\n",
       "    <tr>\n",
       "      <th>4</th>\n",
       "      <td>5</td>\n",
       "      <td>1</td>\n",
       "      <td>1</td>\n",
       "      <td>1</td>\n",
       "      <td>4822</td>\n",
       "      <td>29910.0</td>\n",
       "      <td>0</td>\n",
       "      <td>0</td>\n",
       "      <td>0</td>\n",
       "      <td>0</td>\n",
       "      <td>...</td>\n",
       "      <td>31</td>\n",
       "      <td>5</td>\n",
       "      <td>3.0</td>\n",
       "      <td>-15.636591</td>\n",
       "      <td>4720.862876</td>\n",
       "      <td>4663.199336</td>\n",
       "      <td>4623.782123</td>\n",
       "      <td>8.666229</td>\n",
       "      <td>8.687721</td>\n",
       "      <td>8.791207</td>\n",
       "    </tr>\n",
       "  </tbody>\n",
       "</table>\n",
       "<p>5 rows × 34 columns</p>\n",
       "</div>"
      ],
      "text/plain": [
       "   Store  Open  Promo  SchoolHoliday  Sales  CompetitionDistance  Promo2  \\\n",
       "0      1     1      1              1   5263               1270.0       0   \n",
       "1      2     1      1              1   6064                570.0       1   \n",
       "2      3     1      1              1   8314              14130.0       1   \n",
       "3      4     1      1              1  13995                620.0       0   \n",
       "4      5     1      1              1   4822              29910.0       0   \n",
       "\n",
       "   is_state_holiday  is_public_holiday  is_easter    ...     WeekOfYear  \\\n",
       "0                 0                  0          0    ...             31   \n",
       "1                 0                  0          0    ...             31   \n",
       "2                 0                  0          0    ...             31   \n",
       "3                 0                  0          0    ...             31   \n",
       "4                 0                  0          0    ...             31   \n",
       "\n",
       "   DayOfWeek  CompetitionTime  Promo2Time    Sales2013    Sales2014  \\\n",
       "0          5             82.0  -15.636591  4922.209302  4726.586093   \n",
       "1          5             92.0   78.000000  4895.655629  4991.178218   \n",
       "2          5            103.0   65.000000  7045.603333  6865.664452   \n",
       "3          5             70.0  -15.636591  9355.768212  9764.551155   \n",
       "4          5              3.0  -15.636591  4720.862876  4663.199336   \n",
       "\n",
       "     Sales2015  Heat2013  Heat2014  Heat2015  \n",
       "0  4538.426966  8.337094  8.490133  8.531869  \n",
       "1  4989.067039  8.368358  8.513869  8.624435  \n",
       "2  6898.960674  9.137555  9.216726  9.536277  \n",
       "3  9901.709497  7.141519  7.320659  7.495395  \n",
       "4  4623.782123  8.666229  8.687721  8.791207  \n",
       "\n",
       "[5 rows x 34 columns]"
      ]
     },
     "execution_count": 115,
     "metadata": {},
     "output_type": "execute_result"
    }
   ],
   "source": [
    "# 保存结果\n",
    "train.to_csv('data/blanc_train.csv',index=False)\n",
    "test.to_csv('data/blanc_test.csv',index=False)\n",
    "train.head()"
   ]
  },
  {
   "cell_type": "markdown",
   "metadata": {},
   "source": [
    "## 3. Cesar\n",
    "\n",
    "在这一部分，我将对特征中的一些范围过大的信息进行放缩，以免结果受到数值本身的影响。"
   ]
  },
  {
   "cell_type": "code",
   "execution_count": 117,
   "metadata": {},
   "outputs": [
    {
     "name": "stdout",
     "output_type": "stream",
     "text": [
      "Once deleted, variables cannot be recovered. Proceed (y/[n])? y\n"
     ]
    }
   ],
   "source": [
    "reset"
   ]
  },
  {
   "cell_type": "code",
   "execution_count": 118,
   "metadata": {},
   "outputs": [],
   "source": [
    "# 引用必要的库\n",
    "import pandas as pd\n",
    "import numpy as np\n",
    "import matplotlib.pyplot as plt\n",
    "\n",
    "# 读入数据\n",
    "train = pd.read_csv('data/blanc_train.csv',index_col=False)\n",
    "test = pd.read_csv('data/blanc_test.csv',index_col=False)"
   ]
  },
  {
   "cell_type": "code",
   "execution_count": 119,
   "metadata": {},
   "outputs": [
    {
     "data": {
      "text/plain": [
       "array(['Store', 'Open', 'Promo', 'SchoolHoliday', 'Sales',\n",
       "       'CompetitionDistance', 'Promo2', 'is_state_holiday',\n",
       "       'is_public_holiday', 'is_easter', 'is_christmas', 'is_type_a',\n",
       "       'is_type_b', 'is_type_c', 'is_type_d', 'is_scale_a', 'is_scale_b',\n",
       "       'is_scale_c', 'is_promo2_a', 'is_promo2_b', 'is_promo2_c', 'Year',\n",
       "       'Month', 'DayOfMonth', 'WeekOfYear', 'DayOfWeek',\n",
       "       'CompetitionTime', 'Promo2Time', 'Sales2013', 'Sales2014',\n",
       "       'Sales2015', 'Heat2013', 'Heat2014', 'Heat2015'], dtype=object)"
      ]
     },
     "execution_count": 119,
     "metadata": {},
     "output_type": "execute_result"
    }
   ],
   "source": [
    "train.columns.values"
   ]
  },
  {
   "cell_type": "markdown",
   "metadata": {},
   "source": [
    "在多个特征中，`Sales，CompetitionDistance，CompetitionTime，Promo2Time，Sales2013/14/15，Heat2013/14/15`是取值范围比较宽的。我将通过观察他们的分布情况来决定是否需要缩放和使用什么方式来缩放。"
   ]
  },
  {
   "cell_type": "code",
   "execution_count": 120,
   "metadata": {},
   "outputs": [
    {
     "data": {
      "image/png": "[encoded data removed]",
      "text/plain": [
       "<Figure size 432x288 with 1 Axes>"
      ]
     },
     "metadata": {},
     "output_type": "display_data"
    }
   ],
   "source": [
    "wide_features = ['Sales','CompetitionDistance','CompetitionTime','Promo2Time','Sales2013','Sales2014','Sales2015','Heat2013','Heat2014','Heat2015']\n",
    "\n",
    "# 'Sales','CompetitionDistance'\n",
    "for feature in wide_features[:2]:\n",
    "    train[feature].hist(alpha=0.3,bins=50)"
   ]
  },
  {
   "cell_type": "code",
   "execution_count": 121,
   "metadata": {},
   "outputs": [
    {
     "data": {
      "image/png": "[encoded data removed]",
      "text/plain": [
       "<Figure size 432x288 with 1 Axes>"
      ]
     },
     "metadata": {},
     "output_type": "display_data"
    }
   ],
   "source": [
    "# 'CompetitionTime','Promo2Time'\n",
    "for feature in wide_features[2:4]:\n",
    "    train[feature].hist(alpha=0.3,bins=50)"
   ]
  },
  {
   "cell_type": "code",
   "execution_count": 122,
   "metadata": {},
   "outputs": [
    {
     "data": {
      "image/png": "[encoded data removed]",
      "text/plain": [
       "<Figure size 432x288 with 1 Axes>"
      ]
     },
     "metadata": {},
     "output_type": "display_data"
    }
   ],
   "source": [
    "# 'Sales2013','Sales2014','Sales2015'\n",
    "for feature in wide_features[4:7]:\n",
    "    train[feature].hist(alpha=0.3,bins=50)"
   ]
  },
  {
   "cell_type": "code",
   "execution_count": 123,
   "metadata": {},
   "outputs": [
    {
     "data": {
      "image/png": "[encoded data removed]",
      "text/plain": [
       "<Figure size 432x288 with 1 Axes>"
      ]
     },
     "metadata": {},
     "output_type": "display_data"
    }
   ],
   "source": [
    "# 'Heat2013','Heat2014','Heat2015'\n",
    "for feature in wide_features[7:]:\n",
    "    train[feature].hist(alpha=0.3,bins=50)"
   ]
  },
  {
   "cell_type": "markdown",
   "metadata": {},
   "source": [
    "经过分布图的观察，我认为`Sales，CompetitionDistance，CompetitionTime，Promo2Time，Sales2013/14/15`这些特征需要进行值缩小。考虑到训练集和测试集的统一，我认为对数处理是较为合理的。但是Promo2Time的值中有小于1的值，因此对于Promo2Time，需要首先所有值加上100再取对数。"
   ]
  },
  {
   "cell_type": "code",
   "execution_count": 124,
   "metadata": {},
   "outputs": [
    {
     "data": {
      "text/html": [
       "<div>\n",
       "<style scoped>\n",
       "    .dataframe tbody tr th:only-of-type {\n",
       "        vertical-align: middle;\n",
       "    }\n",
       "\n",
       "    .dataframe tbody tr th {\n",
       "        vertical-align: top;\n",
       "    }\n",
       "\n",
       "    .dataframe thead th {\n",
       "        text-align: right;\n",
       "    }\n",
       "</style>\n",
       "<table border=\"1\" class=\"dataframe\">\n",
       "  <thead>\n",
       "    <tr style=\"text-align: right;\">\n",
       "      <th></th>\n",
       "      <th>Store</th>\n",
       "      <th>Open</th>\n",
       "      <th>Promo</th>\n",
       "      <th>SchoolHoliday</th>\n",
       "      <th>Sales</th>\n",
       "      <th>CompetitionDistance</th>\n",
       "      <th>Promo2</th>\n",
       "      <th>is_state_holiday</th>\n",
       "      <th>is_public_holiday</th>\n",
       "      <th>is_easter</th>\n",
       "      <th>...</th>\n",
       "      <th>WeekOfYear</th>\n",
       "      <th>DayOfWeek</th>\n",
       "      <th>CompetitionTime</th>\n",
       "      <th>Promo2Time</th>\n",
       "      <th>Sales2013</th>\n",
       "      <th>Sales2014</th>\n",
       "      <th>Sales2015</th>\n",
       "      <th>Heat2013</th>\n",
       "      <th>Heat2014</th>\n",
       "      <th>Heat2015</th>\n",
       "    </tr>\n",
       "  </thead>\n",
       "  <tbody>\n",
       "    <tr>\n",
       "      <th>0</th>\n",
       "      <td>1</td>\n",
       "      <td>1</td>\n",
       "      <td>1</td>\n",
       "      <td>1</td>\n",
       "      <td>8.568456</td>\n",
       "      <td>7.146772</td>\n",
       "      <td>0</td>\n",
       "      <td>0</td>\n",
       "      <td>0</td>\n",
       "      <td>0</td>\n",
       "      <td>...</td>\n",
       "      <td>31</td>\n",
       "      <td>5</td>\n",
       "      <td>5.204007</td>\n",
       "      <td>4.435134</td>\n",
       "      <td>8.501513</td>\n",
       "      <td>8.460958</td>\n",
       "      <td>8.420336</td>\n",
       "      <td>8.337094</td>\n",
       "      <td>8.490133</td>\n",
       "      <td>8.531869</td>\n",
       "    </tr>\n",
       "    <tr>\n",
       "      <th>1</th>\n",
       "      <td>2</td>\n",
       "      <td>1</td>\n",
       "      <td>1</td>\n",
       "      <td>1</td>\n",
       "      <td>8.710125</td>\n",
       "      <td>6.345636</td>\n",
       "      <td>1</td>\n",
       "      <td>0</td>\n",
       "      <td>0</td>\n",
       "      <td>0</td>\n",
       "      <td>...</td>\n",
       "      <td>31</td>\n",
       "      <td>5</td>\n",
       "      <td>5.257495</td>\n",
       "      <td>5.181784</td>\n",
       "      <td>8.496103</td>\n",
       "      <td>8.515427</td>\n",
       "      <td>8.515004</td>\n",
       "      <td>8.368358</td>\n",
       "      <td>8.513869</td>\n",
       "      <td>8.624435</td>\n",
       "    </tr>\n",
       "    <tr>\n",
       "      <th>2</th>\n",
       "      <td>3</td>\n",
       "      <td>1</td>\n",
       "      <td>1</td>\n",
       "      <td>1</td>\n",
       "      <td>9.025696</td>\n",
       "      <td>9.556055</td>\n",
       "      <td>1</td>\n",
       "      <td>0</td>\n",
       "      <td>0</td>\n",
       "      <td>0</td>\n",
       "      <td>...</td>\n",
       "      <td>31</td>\n",
       "      <td>5</td>\n",
       "      <td>5.313206</td>\n",
       "      <td>5.105945</td>\n",
       "      <td>8.860159</td>\n",
       "      <td>8.834288</td>\n",
       "      <td>8.839126</td>\n",
       "      <td>9.137555</td>\n",
       "      <td>9.216726</td>\n",
       "      <td>9.536277</td>\n",
       "    </tr>\n",
       "    <tr>\n",
       "      <th>3</th>\n",
       "      <td>4</td>\n",
       "      <td>1</td>\n",
       "      <td>1</td>\n",
       "      <td>1</td>\n",
       "      <td>9.546455</td>\n",
       "      <td>6.429719</td>\n",
       "      <td>0</td>\n",
       "      <td>0</td>\n",
       "      <td>0</td>\n",
       "      <td>0</td>\n",
       "      <td>...</td>\n",
       "      <td>31</td>\n",
       "      <td>5</td>\n",
       "      <td>5.135798</td>\n",
       "      <td>4.435134</td>\n",
       "      <td>9.143748</td>\n",
       "      <td>9.186514</td>\n",
       "      <td>9.200463</td>\n",
       "      <td>7.141519</td>\n",
       "      <td>7.320659</td>\n",
       "      <td>7.495395</td>\n",
       "    </tr>\n",
       "    <tr>\n",
       "      <th>4</th>\n",
       "      <td>5</td>\n",
       "      <td>1</td>\n",
       "      <td>1</td>\n",
       "      <td>1</td>\n",
       "      <td>8.480944</td>\n",
       "      <td>10.305948</td>\n",
       "      <td>0</td>\n",
       "      <td>0</td>\n",
       "      <td>0</td>\n",
       "      <td>0</td>\n",
       "      <td>...</td>\n",
       "      <td>31</td>\n",
       "      <td>5</td>\n",
       "      <td>4.634729</td>\n",
       "      <td>4.435134</td>\n",
       "      <td>8.459747</td>\n",
       "      <td>8.447457</td>\n",
       "      <td>8.438968</td>\n",
       "      <td>8.666229</td>\n",
       "      <td>8.687721</td>\n",
       "      <td>8.791207</td>\n",
       "    </tr>\n",
       "  </tbody>\n",
       "</table>\n",
       "<p>5 rows × 34 columns</p>\n",
       "</div>"
      ],
      "text/plain": [
       "   Store  Open  Promo  SchoolHoliday     Sales  CompetitionDistance  Promo2  \\\n",
       "0      1     1      1              1  8.568456             7.146772       0   \n",
       "1      2     1      1              1  8.710125             6.345636       1   \n",
       "2      3     1      1              1  9.025696             9.556055       1   \n",
       "3      4     1      1              1  9.546455             6.429719       0   \n",
       "4      5     1      1              1  8.480944            10.305948       0   \n",
       "\n",
       "   is_state_holiday  is_public_holiday  is_easter    ...     WeekOfYear  \\\n",
       "0                 0                  0          0    ...             31   \n",
       "1                 0                  0          0    ...             31   \n",
       "2                 0                  0          0    ...             31   \n",
       "3                 0                  0          0    ...             31   \n",
       "4                 0                  0          0    ...             31   \n",
       "\n",
       "   DayOfWeek  CompetitionTime  Promo2Time  Sales2013  Sales2014  Sales2015  \\\n",
       "0          5         5.204007    4.435134   8.501513   8.460958   8.420336   \n",
       "1          5         5.257495    5.181784   8.496103   8.515427   8.515004   \n",
       "2          5         5.313206    5.105945   8.860159   8.834288   8.839126   \n",
       "3          5         5.135798    4.435134   9.143748   9.186514   9.200463   \n",
       "4          5         4.634729    4.435134   8.459747   8.447457   8.438968   \n",
       "\n",
       "   Heat2013  Heat2014  Heat2015  \n",
       "0  8.337094  8.490133  8.531869  \n",
       "1  8.368358  8.513869  8.624435  \n",
       "2  9.137555  9.216726  9.536277  \n",
       "3  7.141519  7.320659  7.495395  \n",
       "4  8.666229  8.687721  8.791207  \n",
       "\n",
       "[5 rows x 34 columns]"
      ]
     },
     "execution_count": 124,
     "metadata": {},
     "output_type": "execute_result"
    }
   ],
   "source": [
    "# 明确放缩对象\n",
    "wide_features = ['Sales','CompetitionDistance','CompetitionTime','Promo2Time','Sales2013','Sales2014','Sales2015']\n",
    "\n",
    "# 定义放缩函数\n",
    "def feature_rescale(df,features):\n",
    "    for feature in features:\n",
    "        if feature in ['Promo2Time','CompetitionTime']:\n",
    "            old = df[feature].values+100\n",
    "            df[feature]=np.log(old)\n",
    "        else:  \n",
    "            old = df[feature].values\n",
    "            df[feature]=np.log(old)\n",
    "    return df\n",
    "\n",
    "# 在训练集和测试集上应用放缩\n",
    "train = feature_rescale(train,wide_features)\n",
    "test = feature_rescale(test,wide_features[1:])\n",
    "\n",
    "# 查看效果\n",
    "train.head()"
   ]
  },
  {
   "cell_type": "markdown",
   "metadata": {},
   "source": [
    "另外，商店信息已经通过样本中的各种描述来表征了，所以我认为商店编号Store并没有什么用"
   ]
  },
  {
   "cell_type": "code",
   "execution_count": 125,
   "metadata": {},
   "outputs": [],
   "source": [
    "# 删除商店编号\n",
    "train.drop(['Store'],axis=1,inplace=True)\n",
    "test.drop(['Store'],axis=1,inplace=True)\n",
    "\n",
    "# 保存成果\n",
    "train.to_csv('data/cesar_train.csv',index=False)\n",
    "test.to_csv('data/cesar_test.csv',index=False)"
   ]
  }
 ],
 "metadata": {
  "kernelspec": {
   "display_name": "Python 3",
   "language": "python",
   "name": "python3"
  },
  "language_info": {
   "codemirror_mode": {
    "name": "ipython",
    "version": 3
   },
   "file_extension": ".py",
   "mimetype": "text/x-python",
   "name": "python",
   "nbconvert_exporter": "python",
   "pygments_lexer": "ipython3",
   "version": "3.6.4"
  }
 },
 "nbformat": 4,
 "nbformat_minor": 2
}
